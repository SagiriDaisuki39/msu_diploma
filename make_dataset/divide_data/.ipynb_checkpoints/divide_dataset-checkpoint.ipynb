{
 "cells": [
  {
   "cell_type": "code",
   "execution_count": 1,
   "id": "f6d19782",
   "metadata": {},
   "outputs": [],
   "source": [
    "import os\n",
    "import random\n",
    "import shutil"
   ]
  },
  {
   "cell_type": "markdown",
   "id": "bf2a901d",
   "metadata": {},
   "source": [
    "#### Need to put all the processed images into the data_test directory and then run the program. The program randomly selects 100 images from 3100 images of each type as the test set and the remaining 3000 images as the training set."
   ]
  },
  {
   "cell_type": "code",
   "execution_count": 5,
   "id": "fdc33e47",
   "metadata": {},
   "outputs": [],
   "source": [
    "fileDir = \"../data_train/graphs/\"\n",
    "tarDir = \"../data_test/graphs/\"\n",
    "\n",
    "count_list = [100]*6 # Record how many pictures of each of the six types are needed.\n",
    "        \n",
    "while True:\n",
    "    pathDir = os.listdir(fileDir)    # The original path to get the image\n",
    "    sample = random.sample(pathDir, 1)  # Randomly select one of the sample images\n",
    "    \n",
    "    for i in range(1,7,1):\n",
    "        if \"t0\"+str(i) in sample[0] and count_list[i-1]!=0:\n",
    "            shutil.move(fileDir+sample[0], tarDir+sample[0])\n",
    "            count_list[i-1] -= 1 # The number of pictures of the corresponding type required is reduced by 1\n",
    "            break   \n",
    "    \n",
    "    # After all the pictures have been taken, the loop will be exited.\n",
    "    if all(element == 0 for element in count_list) == True: \n",
    "        break"
   ]
  }
 ],
 "metadata": {
  "kernelspec": {
   "display_name": "Python 3 (ipykernel)",
   "language": "python",
   "name": "python3"
  },
  "language_info": {
   "codemirror_mode": {
    "name": "ipython",
    "version": 3
   },
   "file_extension": ".py",
   "mimetype": "text/x-python",
   "name": "python",
   "nbconvert_exporter": "python",
   "pygments_lexer": "ipython3",
   "version": "3.11.5"
  }
 },
 "nbformat": 4,
 "nbformat_minor": 5
}
