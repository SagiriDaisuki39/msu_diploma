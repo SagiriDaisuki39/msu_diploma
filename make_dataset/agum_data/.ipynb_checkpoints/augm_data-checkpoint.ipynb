{
 "cells": [
  {
   "cell_type": "code",
   "execution_count": 2,
   "id": "eb8d6295-b6a6-4217-bfce-942c78be72e2",
   "metadata": {},
   "outputs": [],
   "source": [
    "import os\n",
    "import cv2\n",
    "from PIL import Image\n",
    "import numpy as np\n",
    "import matplotlib.pyplot as plt"
   ]
  },
  {
   "cell_type": "markdown",
   "id": "a3db48a3",
   "metadata": {},
   "source": [
    "### Reverse the image from white to black"
   ]
  },
  {
   "cell_type": "code",
   "execution_count": 3,
   "id": "555b358c",
   "metadata": {},
   "outputs": [],
   "source": [
    "input_dir = '../make_graphs/graphs_4nodes/'\n",
    "output_dir = './data_black/graphs_4nodes/'\n",
    "\n",
    "if not os.path.isdir(output_dir):# If the to_path directory does not exist, it is created\n",
    "    os.makedirs(output_dir)\n",
    "    \n",
    "for filename in os.listdir(input_dir):\n",
    "    if filename.endswith('.png'):\n",
    "        inlist = input_dir + filename.strip()\n",
    "        outlist = output_dir + filename.strip()\n",
    "        img = Image.open(inlist)  # To open the imgage\n",
    "        matrix = 255 - np.asarray(img)  # To convert image into matrix and invert color\n",
    "        new_img = Image.fromarray(matrix)  # To convert matrix into image\n",
    "        new_img.save(outlist)  # To save the image"
   ]
  },
  {
   "cell_type": "markdown",
   "id": "f40bf8f3",
   "metadata": {},
   "source": [
    "### Image expansion operation"
   ]
  },
  {
   "cell_type": "code",
   "execution_count": 6,
   "id": "9d789287",
   "metadata": {},
   "outputs": [],
   "source": [
    "input_dir = './data_black/graphs_4nodes/'\n",
    "output_dir = './data_dilation/graphs_4nodes/'\n",
    "\n",
    "if not os.path.isdir(output_dir):\n",
    "    os.makedirs(output_dir)\n",
    "\n",
    "kernel = np.ones((5,5),np.uint8)  \n",
    "\n",
    "for filename in os.listdir(input_dir):\n",
    "    if filename.endswith('.png'):\n",
    "        inlist = input_dir + filename.strip()\n",
    "        outlist = output_dir + filename.strip()\n",
    "        img = cv2.imread(inlist)\n",
    "        dilation = cv2.dilate(img,kernel,iterations = 2)\n",
    "        cv2.imwrite(outlist, dilation)"
   ]
  },
  {
   "cell_type": "markdown",
   "id": "109ee072",
   "metadata": {},
   "source": [
    "### Convert the image size to 40x40"
   ]
  },
  {
   "cell_type": "code",
   "execution_count": null,
   "id": "8421c7d6",
   "metadata": {},
   "outputs": [],
   "source": [
    "input_dir = './data_dilation/graphs_4nodes/'\n",
    "output_dir = './data_new_size/graphs_4nodes/'\n",
    "\n",
    "if not os.path.isdir(output_dir):\n",
    "    os.makedirs(output_dir)\n",
    "    \n",
    "for filename in os.listdir(input_dir):\n",
    "    if filename.endswith('.png'):\n",
    "        inlist = input_dir + filename.strip()\n",
    "        outlist = output_dir + filename.strip()\n",
    "        img = Image.open(inlist)  \n",
    "        img = img.resize((40, 40)) # Convert size to 40x40\n",
    "        img.save(outlist) "
   ]
  }
 ],
 "metadata": {
  "kernelspec": {
   "display_name": "Python 3 (ipykernel)",
   "language": "python",
   "name": "python3"
  },
  "language_info": {
   "codemirror_mode": {
    "name": "ipython",
    "version": 3
   },
   "file_extension": ".py",
   "mimetype": "text/x-python",
   "name": "python",
   "nbconvert_exporter": "python",
   "pygments_lexer": "ipython3",
   "version": "3.11.5"
  }
 },
 "nbformat": 4,
 "nbformat_minor": 5
}
