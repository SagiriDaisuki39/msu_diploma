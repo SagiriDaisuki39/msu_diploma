{
 "cells": [
  {
   "cell_type": "code",
   "execution_count": 1,
   "id": "c686432d-3aa6-4fc7-9d17-c48eda383c98",
   "metadata": {},
   "outputs": [],
   "source": [
    "import torch\n",
    "import torch.nn as nn\n",
    "import torch.utils.data as Data\n",
    "import torch.optim as optim\n",
    "from torchvision import transforms  # Import the transforms module for data preprocessing\n",
    "import matplotlib.pyplot as plt\n",
    "import numpy as np\n",
    "import os  # Import the os module to operate the file path\n",
    "from PIL import Image  # Import the Image module in the PIL library for image processing\n",
    "from tqdm import tqdm  # Progress bar module\n",
    "from time import sleep \n",
    "import time # Used to record training time"
   ]
  },
  {
   "cell_type": "code",
   "execution_count": 2,
   "id": "d521a6b2-c916-406a-b45e-4e08640e774a",
   "metadata": {},
   "outputs": [],
   "source": [
    "# Setting Hyperparameters\n",
    "EPOCH = 35\n",
    "BATCH_SIZE = 32\n",
    "show_size = 12         # number of pictures used to show the comparison of AE reconstruction\n",
    "LR = 0.01              # Learning rate"
   ]
  },
  {
   "cell_type": "code",
   "execution_count": 3,
   "id": "fc67f5df",
   "metadata": {},
   "outputs": [],
   "source": [
    "# 设置随机数种子\n",
    "def setup_seed(seed):\n",
    "    torch.manual_seed(seed)\n",
    "    torch.cuda.manual_seed_all(seed)\n",
    "    np.random.seed(seed)\n",
    "    # random.seed(seed)\n",
    "    torch.backends.cudnn.deterministic = True\n",
    "\n",
    "SEED = 2809\n",
    "setup_seed(SEED)"
   ]
  },
  {
   "cell_type": "markdown",
   "id": "799e11ec",
   "metadata": {},
   "source": [
    "### Dataset"
   ]
  },
  {
   "cell_type": "code",
   "execution_count": 4,
   "id": "3c5bd342-178a-4de0-9ef7-bba308af88bb",
   "metadata": {},
   "outputs": [],
   "source": [
    "# The class for loading datasets is used to load datasets \n",
    "# whose labels are stored in a separate txt file in the format of \"filename\\t label\"\n",
    "class CustomDataset(Data.Dataset):\n",
    "    def __init__(self, image_dir, label_file, transform=None):\n",
    "        super().__init__()  # Calling the parent class's constructor\n",
    "        self.image_dir = image_dir  # Path to the image data\n",
    "        self.label_file = label_file  # The path of the label text\n",
    "        self.transform = transform  # Data preprocessing operations\n",
    "        self.samples = self._load_samples()  # Loading dataset sample information\n",
    "\n",
    "    def _load_samples(self):\n",
    "        samples = []  # List storing sample information\n",
    "        with open(self.label_file, 'r') as f:  # Open the label text file\n",
    "            for line in f:  # Read the contents of a labeled text file line by line\n",
    "                image_name, label = line.strip().split('\\t ')  # Get the image file name and label by separating each line with tabs + spaces\n",
    "                image_path = os.path.join(self.image_dir, image_name)  # The full path to the stitched image file\n",
    "                samples.append((image_path, label))  # Combine the image path and label into a tuple and add it to the sample list\n",
    "        return samples  # Return to sample list\n",
    "\n",
    "    def __len__(self):\n",
    "        return len(self.samples)  # Returns the number of samples in the dataset\n",
    "\n",
    "    def __getitem__(self, index):\n",
    "        image_path, label = self.samples[index]  # Get the image path and label at the specified index\n",
    "        image = Image.open(image_path).convert('L')  # Open an image file and convert it to grayscale\n",
    "        if self.transform:  # If data preprocessing operations are defined\n",
    "            image = self.transform(image)  # Preprocess the image\n",
    "        return image, label  # Returns the preprocessed image and label"
   ]
  },
  {
   "cell_type": "code",
   "execution_count": 5,
   "id": "fafb763d-517d-463d-be2a-0eb8f20fdea0",
   "metadata": {
    "scrolled": false
   },
   "outputs": [
    {
     "name": "stdout",
     "output_type": "stream",
     "text": [
      "Size of train dataset:\n",
      "18000\n",
      "Size of test dataset:\n",
      "600\n",
      "Size of show dataset:\n",
      "12\n"
     ]
    }
   ],
   "source": [
    "# Check if CUDA is installed and available for your GPU\n",
    "device = torch.device('cuda' if torch.cuda.is_available() else 'cpu')\n",
    "\n",
    "# Set the image data path and label text path\n",
    "train_image_dir = '../data_train/graphs/'  # Path to the image data\n",
    "train_label_file = '../data_train/labels.txt'  # The path of the label text\n",
    "test_image_dir = '../data_test/graphs/' \n",
    "test_label_file = '../data_test/labels.txt'  \n",
    "show_image_dir = '../data_test/graphs_12/'\n",
    "show_label_file = '../data_test/labels_12.txt'\n",
    "\n",
    "# Define data preprocessing operations and add other preprocessing operations as needed\n",
    "transform = transforms.Compose([\n",
    "    transforms.Resize((40, 40)),  # Resize the images\n",
    "    transforms.ToTensor(),  # Convert image to tensor\n",
    "])\n",
    "\n",
    "# Creating a custom dataset instance\n",
    "train_dataset = CustomDataset(train_image_dir, train_label_file, transform=transform)\n",
    "test_dataset = CustomDataset(test_image_dir, test_label_file, transform=transform)\n",
    "show_dataset = CustomDataset(show_image_dir, show_label_file, transform=transform)\n",
    "\n",
    "print(\"Size of train dataset:\")\n",
    "print(train_dataset.__len__())\n",
    "print(\"Size of test dataset:\")\n",
    "print(test_dataset.__len__())\n",
    "print(\"Size of show dataset:\")\n",
    "print(show_dataset.__len__())\n",
    "\n",
    "# Creating a Data Loader\n",
    "# Shuffle the order during training\n",
    "train_loader = Data.DataLoader(dataset=train_dataset, batch_size=BATCH_SIZE, shuffle=True)\n",
    "test_loader = Data.DataLoader(dataset=test_dataset, batch_size=BATCH_SIZE, shuffle=False)\n",
    "show_loader = Data.DataLoader(dataset=show_dataset, batch_size=show_size, shuffle=False)"
   ]
  },
  {
   "cell_type": "markdown",
   "id": "d53cb001",
   "metadata": {},
   "source": [
    "### AE"
   ]
  },
  {
   "cell_type": "code",
   "execution_count": 6,
   "id": "59b4ae3c",
   "metadata": {},
   "outputs": [],
   "source": [
    "# Activation function is ReLU\n",
    "# Hidden space 4 neurons\n",
    "# 8-layer network\n",
    "class AutoEncoder(nn.Module):\n",
    "    def __init__(self):\n",
    "        super(AutoEncoder, self).__init__()\n",
    "\n",
    "        self.encoder = nn.Sequential(\n",
    "            nn.Linear(in_features=40*40, out_features=680),\n",
    "            nn.ReLU(),\n",
    "            nn.Linear(in_features=680, out_features=280),\n",
    "            nn.ReLU(),\n",
    "            nn.Linear(in_features=280, out_features=120),\n",
    "            nn.ReLU(),\n",
    "            nn.Linear(in_features=120, out_features=50),\n",
    "            nn.ReLU(),\n",
    "            nn.Linear(in_features=50, out_features=22),\n",
    "            nn.ReLU(),\n",
    "            nn.Linear(in_features=22, out_features=9),\n",
    "            nn.ReLU(),\n",
    "            nn.Linear(in_features=9, out_features=4),\n",
    "        )\n",
    "        self.decoder = nn.Sequential(\n",
    "            nn.Linear(in_features=4, out_features=9),\n",
    "            nn.ReLU(),\n",
    "            nn.Linear(in_features=9, out_features=22),\n",
    "            nn.ReLU(),\n",
    "            nn.Linear(in_features=22, out_features=50),\n",
    "            nn.ReLU(),\n",
    "            nn.Linear(in_features=50, out_features=120),\n",
    "            nn.ReLU(),\n",
    "            nn.Linear(in_features=120, out_features=280),\n",
    "            nn.ReLU(),\n",
    "            nn.Linear(in_features=280, out_features=680),\n",
    "            nn.ReLU(),\n",
    "            nn.Linear(in_features=680, out_features=40*40),\n",
    "            nn.Sigmoid(),       # compress to a range (0, 1)\n",
    "        )\n",
    "\n",
    "    def forward(self, x):\n",
    "        x = self.encoder(x)\n",
    "        x = self.decoder(x)\n",
    "        return x"
   ]
  },
  {
   "cell_type": "code",
   "execution_count": 7,
   "id": "7f175eed-e0b9-42b3-b9c8-cc2dddfaa795",
   "metadata": {},
   "outputs": [],
   "source": [
    "# Create an autoencoder object and move the model to the GPU\n",
    "model = AutoEncoder().to(device)\n",
    "# Defining loss function and optimizer\n",
    "criterion = nn.MSELoss() # The loss function is the mean square error\n",
    "optimizer = optim.Adam(model.parameters(), lr=LR)"
   ]
  },
  {
   "cell_type": "markdown",
   "id": "fbbdba53",
   "metadata": {},
   "source": [
    "### Training and testing of AE"
   ]
  },
  {
   "cell_type": "code",
   "execution_count": 8,
   "id": "0f6f688b-dd32-4391-a0f5-72097b5ac1c8",
   "metadata": {
    "collapsed": true
   },
   "outputs": [
    {
     "name": "stderr",
     "output_type": "stream",
     "text": [
      "100%|████████████████████████████████████████████████████████████████████████████████| 563/563 [00:25<00:00, 22.51it/s]\n"
     ]
    },
    {
     "name": "stdout",
     "output_type": "stream",
     "text": [
      "Epoch[1/35], loss:0.0576\n"
     ]
    },
    {
     "name": "stderr",
     "output_type": "stream",
     "text": [
      "100%|████████████████████████████████████████████████████████████████████████████████| 563/563 [00:21<00:00, 26.36it/s]\n"
     ]
    },
    {
     "name": "stdout",
     "output_type": "stream",
     "text": [
      "Epoch[2/35], loss:0.0418\n"
     ]
    },
    {
     "name": "stderr",
     "output_type": "stream",
     "text": [
      "100%|████████████████████████████████████████████████████████████████████████████████| 563/563 [00:20<00:00, 27.23it/s]\n"
     ]
    },
    {
     "name": "stdout",
     "output_type": "stream",
     "text": [
      "Epoch[3/35], loss:0.0468\n"
     ]
    },
    {
     "name": "stderr",
     "output_type": "stream",
     "text": [
      "100%|████████████████████████████████████████████████████████████████████████████████| 563/563 [00:20<00:00, 27.16it/s]\n"
     ]
    },
    {
     "name": "stdout",
     "output_type": "stream",
     "text": [
      "Epoch[4/35], loss:0.0476\n"
     ]
    },
    {
     "name": "stderr",
     "output_type": "stream",
     "text": [
      "100%|████████████████████████████████████████████████████████████████████████████████| 563/563 [00:20<00:00, 27.19it/s]\n"
     ]
    },
    {
     "name": "stdout",
     "output_type": "stream",
     "text": [
      "Epoch[5/35], loss:0.0617\n"
     ]
    },
    {
     "name": "stderr",
     "output_type": "stream",
     "text": [
      "100%|████████████████████████████████████████████████████████████████████████████████| 563/563 [00:20<00:00, 27.02it/s]\n"
     ]
    },
    {
     "name": "stdout",
     "output_type": "stream",
     "text": [
      "Epoch[6/35], loss:0.0552\n"
     ]
    },
    {
     "name": "stderr",
     "output_type": "stream",
     "text": [
      "100%|████████████████████████████████████████████████████████████████████████████████| 563/563 [00:21<00:00, 25.85it/s]\n"
     ]
    },
    {
     "name": "stdout",
     "output_type": "stream",
     "text": [
      "Epoch[7/35], loss:0.0468\n"
     ]
    },
    {
     "name": "stderr",
     "output_type": "stream",
     "text": [
      "100%|████████████████████████████████████████████████████████████████████████████████| 563/563 [00:21<00:00, 26.50it/s]\n"
     ]
    },
    {
     "name": "stdout",
     "output_type": "stream",
     "text": [
      "Epoch[8/35], loss:0.0595\n"
     ]
    },
    {
     "name": "stderr",
     "output_type": "stream",
     "text": [
      "100%|████████████████████████████████████████████████████████████████████████████████| 563/563 [00:21<00:00, 26.62it/s]\n"
     ]
    },
    {
     "name": "stdout",
     "output_type": "stream",
     "text": [
      "Epoch[9/35], loss:0.0458\n"
     ]
    },
    {
     "name": "stderr",
     "output_type": "stream",
     "text": [
      "100%|████████████████████████████████████████████████████████████████████████████████| 563/563 [00:21<00:00, 26.09it/s]\n"
     ]
    },
    {
     "name": "stdout",
     "output_type": "stream",
     "text": [
      "Epoch[10/35], loss:0.0458\n"
     ]
    },
    {
     "name": "stderr",
     "output_type": "stream",
     "text": [
      "100%|████████████████████████████████████████████████████████████████████████████████| 563/563 [00:20<00:00, 27.18it/s]\n"
     ]
    },
    {
     "name": "stdout",
     "output_type": "stream",
     "text": [
      "Epoch[11/35], loss:0.0346\n"
     ]
    },
    {
     "name": "stderr",
     "output_type": "stream",
     "text": [
      "100%|████████████████████████████████████████████████████████████████████████████████| 563/563 [00:19<00:00, 29.02it/s]\n"
     ]
    },
    {
     "name": "stdout",
     "output_type": "stream",
     "text": [
      "Epoch[12/35], loss:0.0636\n"
     ]
    },
    {
     "name": "stderr",
     "output_type": "stream",
     "text": [
      "100%|████████████████████████████████████████████████████████████████████████████████| 563/563 [00:19<00:00, 29.14it/s]\n"
     ]
    },
    {
     "name": "stdout",
     "output_type": "stream",
     "text": [
      "Epoch[13/35], loss:0.0484\n"
     ]
    },
    {
     "name": "stderr",
     "output_type": "stream",
     "text": [
      "100%|████████████████████████████████████████████████████████████████████████████████| 563/563 [00:18<00:00, 30.68it/s]\n"
     ]
    },
    {
     "name": "stdout",
     "output_type": "stream",
     "text": [
      "Epoch[14/35], loss:0.0499\n"
     ]
    },
    {
     "name": "stderr",
     "output_type": "stream",
     "text": [
      "100%|████████████████████████████████████████████████████████████████████████████████| 563/563 [00:18<00:00, 30.86it/s]\n"
     ]
    },
    {
     "name": "stdout",
     "output_type": "stream",
     "text": [
      "Epoch[15/35], loss:0.0375\n"
     ]
    },
    {
     "name": "stderr",
     "output_type": "stream",
     "text": [
      "100%|████████████████████████████████████████████████████████████████████████████████| 563/563 [00:21<00:00, 25.62it/s]\n"
     ]
    },
    {
     "name": "stdout",
     "output_type": "stream",
     "text": [
      "Epoch[16/35], loss:0.0506\n"
     ]
    },
    {
     "name": "stderr",
     "output_type": "stream",
     "text": [
      "100%|████████████████████████████████████████████████████████████████████████████████| 563/563 [00:21<00:00, 26.29it/s]\n"
     ]
    },
    {
     "name": "stdout",
     "output_type": "stream",
     "text": [
      "Epoch[17/35], loss:0.0369\n"
     ]
    },
    {
     "name": "stderr",
     "output_type": "stream",
     "text": [
      "100%|████████████████████████████████████████████████████████████████████████████████| 563/563 [00:22<00:00, 24.57it/s]\n"
     ]
    },
    {
     "name": "stdout",
     "output_type": "stream",
     "text": [
      "Epoch[18/35], loss:0.0453\n"
     ]
    },
    {
     "name": "stderr",
     "output_type": "stream",
     "text": [
      "100%|████████████████████████████████████████████████████████████████████████████████| 563/563 [00:21<00:00, 26.59it/s]\n"
     ]
    },
    {
     "name": "stdout",
     "output_type": "stream",
     "text": [
      "Epoch[19/35], loss:0.0492\n"
     ]
    },
    {
     "name": "stderr",
     "output_type": "stream",
     "text": [
      "100%|████████████████████████████████████████████████████████████████████████████████| 563/563 [00:21<00:00, 25.94it/s]\n"
     ]
    },
    {
     "name": "stdout",
     "output_type": "stream",
     "text": [
      "Epoch[20/35], loss:0.0887\n"
     ]
    },
    {
     "name": "stderr",
     "output_type": "stream",
     "text": [
      "100%|████████████████████████████████████████████████████████████████████████████████| 563/563 [00:21<00:00, 25.74it/s]\n"
     ]
    },
    {
     "name": "stdout",
     "output_type": "stream",
     "text": [
      "Epoch[21/35], loss:0.0651\n"
     ]
    },
    {
     "name": "stderr",
     "output_type": "stream",
     "text": [
      "100%|████████████████████████████████████████████████████████████████████████████████| 563/563 [00:20<00:00, 27.95it/s]\n"
     ]
    },
    {
     "name": "stdout",
     "output_type": "stream",
     "text": [
      "Epoch[22/35], loss:0.0773\n"
     ]
    },
    {
     "name": "stderr",
     "output_type": "stream",
     "text": [
      "100%|████████████████████████████████████████████████████████████████████████████████| 563/563 [00:20<00:00, 27.92it/s]\n"
     ]
    },
    {
     "name": "stdout",
     "output_type": "stream",
     "text": [
      "Epoch[23/35], loss:0.0763\n"
     ]
    },
    {
     "name": "stderr",
     "output_type": "stream",
     "text": [
      "100%|████████████████████████████████████████████████████████████████████████████████| 563/563 [00:20<00:00, 27.88it/s]\n"
     ]
    },
    {
     "name": "stdout",
     "output_type": "stream",
     "text": [
      "Epoch[24/35], loss:0.0709\n"
     ]
    },
    {
     "name": "stderr",
     "output_type": "stream",
     "text": [
      "100%|████████████████████████████████████████████████████████████████████████████████| 563/563 [00:20<00:00, 27.97it/s]\n"
     ]
    },
    {
     "name": "stdout",
     "output_type": "stream",
     "text": [
      "Epoch[25/35], loss:0.0753\n"
     ]
    },
    {
     "name": "stderr",
     "output_type": "stream",
     "text": [
      "100%|████████████████████████████████████████████████████████████████████████████████| 563/563 [00:20<00:00, 28.12it/s]\n"
     ]
    },
    {
     "name": "stdout",
     "output_type": "stream",
     "text": [
      "Epoch[26/35], loss:0.0871\n"
     ]
    },
    {
     "name": "stderr",
     "output_type": "stream",
     "text": [
      "100%|████████████████████████████████████████████████████████████████████████████████| 563/563 [00:20<00:00, 27.88it/s]\n"
     ]
    },
    {
     "name": "stdout",
     "output_type": "stream",
     "text": [
      "Epoch[27/35], loss:0.0873\n"
     ]
    },
    {
     "name": "stderr",
     "output_type": "stream",
     "text": [
      "100%|████████████████████████████████████████████████████████████████████████████████| 563/563 [00:20<00:00, 27.83it/s]\n"
     ]
    },
    {
     "name": "stdout",
     "output_type": "stream",
     "text": [
      "Epoch[28/35], loss:0.0723\n"
     ]
    },
    {
     "name": "stderr",
     "output_type": "stream",
     "text": [
      "100%|████████████████████████████████████████████████████████████████████████████████| 563/563 [00:20<00:00, 27.82it/s]\n"
     ]
    },
    {
     "name": "stdout",
     "output_type": "stream",
     "text": [
      "Epoch[29/35], loss:0.0857\n"
     ]
    },
    {
     "name": "stderr",
     "output_type": "stream",
     "text": [
      "100%|████████████████████████████████████████████████████████████████████████████████| 563/563 [00:20<00:00, 27.66it/s]\n"
     ]
    },
    {
     "name": "stdout",
     "output_type": "stream",
     "text": [
      "Epoch[30/35], loss:0.0572\n"
     ]
    },
    {
     "name": "stderr",
     "output_type": "stream",
     "text": [
      "100%|████████████████████████████████████████████████████████████████████████████████| 563/563 [00:24<00:00, 22.97it/s]\n"
     ]
    },
    {
     "name": "stdout",
     "output_type": "stream",
     "text": [
      "Epoch[31/35], loss:0.0530\n"
     ]
    },
    {
     "name": "stderr",
     "output_type": "stream",
     "text": [
      "100%|████████████████████████████████████████████████████████████████████████████████| 563/563 [00:22<00:00, 25.34it/s]\n"
     ]
    },
    {
     "name": "stdout",
     "output_type": "stream",
     "text": [
      "Epoch[32/35], loss:0.0484\n"
     ]
    },
    {
     "name": "stderr",
     "output_type": "stream",
     "text": [
      "100%|████████████████████████████████████████████████████████████████████████████████| 563/563 [00:20<00:00, 27.56it/s]\n"
     ]
    },
    {
     "name": "stdout",
     "output_type": "stream",
     "text": [
      "Epoch[33/35], loss:0.0500\n"
     ]
    },
    {
     "name": "stderr",
     "output_type": "stream",
     "text": [
      "100%|████████████████████████████████████████████████████████████████████████████████| 563/563 [00:20<00:00, 27.46it/s]\n"
     ]
    },
    {
     "name": "stdout",
     "output_type": "stream",
     "text": [
      "Epoch[34/35], loss:0.0467\n"
     ]
    },
    {
     "name": "stderr",
     "output_type": "stream",
     "text": [
      "100%|████████████████████████████████████████████████████████████████████████████████| 563/563 [00:20<00:00, 27.00it/s]\n"
     ]
    },
    {
     "name": "stdout",
     "output_type": "stream",
     "text": [
      "Epoch[35/35], loss:0.0885\n"
     ]
    }
   ],
   "source": [
    "train_loss_list = [] # The average training loss of every epoch\n",
    "test_loss_list = []  # The average testing loss of every epoch\n",
    "loss_list = [] # The average training loss of every batch\n",
    "time_list = [] # The time afer training every batch\n",
    "\n",
    "# Training the Autoencoder\n",
    "start_time = time.time()\n",
    "for epoch in range(EPOCH):\n",
    "    train_loss = 0\n",
    "    count = 0\n",
    "    for data in tqdm(train_loader):\n",
    "        img, _ = data\n",
    "        img = img.to(device)\n",
    "        img = img.flatten(2, 3)\n",
    "        # Forward Propagation\n",
    "        output = model(img)\n",
    "        loss = criterion(output, img)                       # Calculating Losses\n",
    "        time_list.append(time.time() - start_time)          # Recording time\n",
    "        loss_list.append(loss.data)\n",
    "        count += 1\n",
    "        train_loss += loss.data\n",
    "        # Backpropagation and optimizer optimization\n",
    "        optimizer.zero_grad()\n",
    "        loss.backward()\n",
    "        optimizer.step()\n",
    "        sleep(0.001)\n",
    "    train_loss_list.append(train_loss/count) # Record the average training loss of this epoch\n",
    "    print(\"Epoch[{}/{}], loss:{:.4f}\".format(epoch+1, EPOCH, loss.data))\n",
    "    \n",
    "    # After each epoch of training, the test set is tested once and the average loss is recorded.\n",
    "    dataiter = iter(test_loader)\n",
    "    test_loss = 0\n",
    "    count = 0\n",
    "    # Loop through all iterators\n",
    "    for j in range(len(iter(test_loader))):\n",
    "        # Get the next batch of images and labels from the iterator\n",
    "        images, labels = next(dataiter)\n",
    "        images = images.flatten(2, 3)\n",
    "\n",
    "        # Use the model to perform inference, \n",
    "        # process the acquired image data, and save the result in the output variable\n",
    "        output = model(images.to(device))\n",
    "        count += 1\n",
    "        test_loss += criterion(output, images.to(device)).data\n",
    "    test_loss_list.append(test_loss/count)"
   ]
  },
  {
   "cell_type": "markdown",
   "id": "6dcd4323",
   "metadata": {},
   "source": [
    "### Record the loss value of the training process in a csv file\n",
    "\n",
    "file name:\"AE_MSE_ReLU_0.01_680_280_120_50_60_2_9_4.csv\" \n",
    "\n",
    "Activation Function_Loss Function_Learning Rate_number of networks in each layer"
   ]
  },
  {
   "cell_type": "code",
   "execution_count": 9,
   "id": "95cf1f55",
   "metadata": {},
   "outputs": [],
   "source": [
    "import csv\n",
    "\n",
    "with open(\"./epoch_train_test_param/AE_MSE_ReLU_0.01_680_280_120_50_60_2_9_4.csv\",\"w\", newline='') as csvfile: \n",
    "    writer = csv.writer(csvfile)\n",
    "\n",
    "    # To write columns_name\n",
    "    writer.writerow([\"epoch\",\"train_loss\",\"test_loss\"])\n",
    "    # To write many rows\n",
    "    for i in range(EPOCH):\n",
    "        writer.writerow([i+1, train_loss_list[i].item(), test_loss_list[i].item()])"
   ]
  },
  {
   "cell_type": "code",
   "execution_count": 10,
   "id": "9819d8c3",
   "metadata": {},
   "outputs": [],
   "source": [
    "with open(\"./time_loss_param/AE_MSE_ReLU_0.01_680_280_120_50_60_2_9_4.csv\",\"w\", newline='') as csvfile: \n",
    "    writer = csv.writer(csvfile)\n",
    "\n",
    "    writer.writerow([\"time\",\"loss\"])\n",
    "    for i in range(len(time_list)):\n",
    "        writer.writerow([time_list[i], loss_list[i].item()])"
   ]
  },
  {
   "cell_type": "markdown",
   "id": "2abdf774",
   "metadata": {},
   "source": [
    "### Show comparison of pictures"
   ]
  },
  {
   "cell_type": "code",
   "execution_count": 11,
   "id": "afed8edc",
   "metadata": {
    "scrolled": false
   },
   "outputs": [
    {
     "data": {
      "image/png": "[encoded data removed]",
      "text/plain": [
       "<Figure size 2400x400 with 24 Axes>"
      ]
     },
     "metadata": {},
     "output_type": "display_data"
    }
   ],
   "source": [
    "# Iterate over the test dataset and generate an iterator\n",
    "dataiter = iter(show_loader)\n",
    "\n",
    "# Loop through all iterators\n",
    "for j in range(len(iter(show_loader))):\n",
    "    # Get the next batch of images and labels from the iterator\n",
    "    images, labels = next(dataiter)\n",
    "    images = images.flatten(2, 3)\n",
    "\n",
    "    # Use the model to perform inference, \n",
    "    # process the acquired image data, and save the result in the output variable\n",
    "    output = model(images.to(device))\n",
    "    output = output.reshape([show_size, 1, 40, 40])\n",
    "    images = images.reshape([show_size, 1, 40, 40])\n",
    "\n",
    "    # Create subplots and axes objects \n",
    "    # where the first row shows the original image and the second row shows the reconstructed image\n",
    "    fig, axes = plt.subplots(nrows=2, ncols=show_size, sharex=True, sharey=True, figsize=(24,4))\n",
    "\n",
    "    # Loop through the 12 images in the iterator, \n",
    "    # draw the original image and the reconstructed image and add a title\n",
    "    for i in range(show_size):\n",
    "        # Display original image\n",
    "        axes[0,i].imshow(images[i].squeeze().numpy(), cmap='gray')\n",
    "        axes[0,i].set_title(\"Original\")\n",
    "        axes[0,i].get_xaxis().set_visible(False)\n",
    "        axes[0,i].get_yaxis().set_visible(False)\n",
    "\n",
    "        # Display the reconstructed image\n",
    "        axes[1,i].imshow(output[i].squeeze().cpu().detach().numpy(), cmap='gray')\n",
    "        axes[1,i].set_title(\"Reconstruction\")\n",
    "        axes[1,i].get_xaxis().set_visible(False)\n",
    "        axes[1,i].get_yaxis().set_visible(False)\n",
    "\n",
    "    plt.savefig('./pic_reconstruction/AE_MSE_ReLU_0.01_680_280_120_50_60_2_9_4_ep35.png', dpi=300)\n",
    "    # Display the generated subgraph\n",
    "    plt.show()"
   ]
  },
  {
   "cell_type": "markdown",
   "id": "b41458a3",
   "metadata": {},
   "source": [
    "### Other optional network structures"
   ]
  },
  {
   "cell_type": "markdown",
   "id": "73a93486",
   "metadata": {},
   "source": [
    "#### model 0"
   ]
  },
  {
   "cell_type": "code",
   "execution_count": 12,
   "id": "fe6736b7",
   "metadata": {},
   "outputs": [],
   "source": [
    "# class AutoEncoder(nn.Module):\n",
    "#     def __init__(self):\n",
    "#         super(AutoEncoder, self).__init__()\n",
    "\n",
    "#         self.encoder = nn.Sequential(\n",
    "#             nn.Linear(in_features=40*40, out_features=1200),\n",
    "#             nn.Sigmoid(),\n",
    "#             nn.Linear(in_features=1200, out_features=900),\n",
    "#             nn.Sigmoid(),\n",
    "#             nn.Linear(in_features=900, out_features=600),\n",
    "#             nn.Sigmoid(),\n",
    "#             nn.Linear(in_features=600, out_features=400),\n",
    "#             nn.Sigmoid(),\n",
    "#             nn.Linear(in_features=400, out_features=240),\n",
    "#             nn.Sigmoid(),\n",
    "#             nn.Linear(in_features=240, out_features=160),\n",
    "#             nn.Sigmoid(),\n",
    "#             nn.Linear(in_features=160, out_features=100),\n",
    "#             nn.Sigmoid(),\n",
    "#             nn.Linear(in_features=100, out_features=N_DIM_LS),\n",
    "#         )\n",
    "#         self.decoder = nn.Sequential(\n",
    "#             nn.Linear(in_features=N_DIM_LS, out_features=100),\n",
    "#             nn.Sigmoid(),\n",
    "#             nn.Linear(in_features=100, out_features=160),\n",
    "#             nn.Sigmoid(),\n",
    "#             nn.Linear(in_features=160, out_features=240),\n",
    "#             nn.Sigmoid(),\n",
    "#             nn.Linear(in_features=240, out_features=400),\n",
    "#             nn.Sigmoid(),\n",
    "#             nn.Linear(in_features=400, out_features=600),\n",
    "#             nn.Sigmoid(),\n",
    "#             nn.Linear(in_features=600, out_features=900),\n",
    "#             nn.Sigmoid(),\n",
    "#             nn.Linear(in_features=900, out_features=1200),\n",
    "#             nn.Sigmoid(),\n",
    "#             nn.Linear(in_features=1200, out_features=40*40),\n",
    "#             nn.Sigmoid(),       # compress to a range (0, 1)\n",
    "#         )\n",
    "\n",
    "#     def forward(self, x):\n",
    "#         x = self.encoder(x)\n",
    "#         x = self.decoder(x)\n",
    "#         return x"
   ]
  },
  {
   "cell_type": "markdown",
   "id": "f91d2596",
   "metadata": {},
   "source": [
    "#### Hidden space 4 neurons"
   ]
  },
  {
   "cell_type": "code",
   "execution_count": 13,
   "id": "5717decd",
   "metadata": {},
   "outputs": [],
   "source": [
    "# # Activation function is ReLU\n",
    "# # Hidden space 4 neurons\n",
    "# # 2-layer network\n",
    "# class AutoEncoder(nn.Module):\n",
    "#     def __init__(self):\n",
    "#         super(AutoEncoder, self).__init__()\n",
    "\n",
    "#         self.encoder = nn.Sequential(\n",
    "#             nn.Linear(in_features=40*40, out_features=4),\n",
    "#         )\n",
    "#         self.decoder = nn.Sequential(\n",
    "#             nn.Linear(in_features=4, out_features=40*40),\n",
    "#             nn.Sigmoid(),       # compress to a range (0, 1)\n",
    "#         )\n",
    "\n",
    "#     def forward(self, x):\n",
    "#         x = self.encoder(x)\n",
    "#         x = self.decoder(x)\n",
    "#         return x"
   ]
  },
  {
   "cell_type": "code",
   "execution_count": 14,
   "id": "2ca92f1f",
   "metadata": {},
   "outputs": [],
   "source": [
    "# # Activation function is ReLU\n",
    "# # Hidden space 4 neurons\n",
    "# # 3-layer network\n",
    "# class AutoEncoder(nn.Module):\n",
    "#     def __init__(self):\n",
    "#         super(AutoEncoder, self).__init__()\n",
    "\n",
    "#         self.encoder = nn.Sequential(\n",
    "#             nn.Linear(in_features=40*40, out_features=80),\n",
    "#             nn.ReLU(),\n",
    "#             nn.Linear(in_features=80, out_features=4),\n",
    "#         )\n",
    "#         self.decoder = nn.Sequential(\n",
    "#             nn.Linear(in_features=4, out_features=80),\n",
    "#             nn.ReLU(),\n",
    "#             nn.Linear(in_features=80, out_features=40*40),\n",
    "#             nn.Sigmoid(),       # compress to a range (0, 1)\n",
    "#         )\n",
    "\n",
    "#     def forward(self, x):\n",
    "#         x = self.encoder(x)\n",
    "#         x = self.decoder(x)\n",
    "#         return x"
   ]
  },
  {
   "cell_type": "code",
   "execution_count": 15,
   "id": "5b088b6d",
   "metadata": {},
   "outputs": [],
   "source": [
    "# # Activation function is ReLU\n",
    "# # Hidden space 4 neurons\n",
    "# # 4-layer network\n",
    "# class AutoEncoder(nn.Module):\n",
    "#     def __init__(self):\n",
    "#         super(AutoEncoder, self).__init__()\n",
    "\n",
    "#         self.encoder = nn.Sequential(\n",
    "#             nn.Linear(in_features=40*40, out_features=220),\n",
    "#             nn.ReLU(),\n",
    "#             nn.Linear(in_features=220, out_features=30),\n",
    "#             nn.ReLU(),\n",
    "#             nn.Linear(in_features=30, out_features=4),\n",
    "#         )\n",
    "#         self.decoder = nn.Sequential(\n",
    "#             nn.Linear(in_features=4, out_features=30),\n",
    "#             nn.ReLU(),\n",
    "#             nn.Linear(in_features=30, out_features=220),\n",
    "#             nn.ReLU(),\n",
    "#             nn.Linear(in_features=220, out_features=40*40),\n",
    "#             nn.Sigmoid(),       # compress to a range (0, 1)\n",
    "#         )\n",
    "\n",
    "#     def forward(self, x):\n",
    "#         x = self.encoder(x)\n",
    "#         x = self.decoder(x)\n",
    "#         return x"
   ]
  },
  {
   "cell_type": "code",
   "execution_count": 16,
   "id": "22e64432",
   "metadata": {},
   "outputs": [],
   "source": [
    "# # Activation function is ReLU\n",
    "# # Hidden space 4 neurons\n",
    "# # 5-layer network\n",
    "# class AutoEncoder(nn.Module):\n",
    "#     def __init__(self):\n",
    "#         super(AutoEncoder, self).__init__()\n",
    "\n",
    "#         self.encoder = nn.Sequential(\n",
    "#             nn.Linear(in_features=40*40, out_features=360),\n",
    "#             nn.ReLU(),\n",
    "#             nn.Linear(in_features=360, out_features=80),\n",
    "#             nn.ReLU(),\n",
    "#             nn.Linear(in_features=80, out_features=18),\n",
    "#             nn.ReLU(),\n",
    "#             nn.Linear(in_features=18, out_features=4),\n",
    "#         )\n",
    "#         self.decoder = nn.Sequential(\n",
    "#             nn.Linear(in_features=4, out_features=18),\n",
    "#             nn.ReLU(),\n",
    "#             nn.Linear(in_features=18, out_features=80),\n",
    "#             nn.ReLU(),\n",
    "#             nn.Linear(in_features=80, out_features=360),\n",
    "#             nn.ReLU(),\n",
    "#             nn.Linear(in_features=360, out_features=40*40),\n",
    "#             nn.Sigmoid(),       # compress to a range (0, 1)\n",
    "#         )\n",
    "\n",
    "#     def forward(self, x):\n",
    "#         x = self.encoder(x)\n",
    "#         x = self.decoder(x)\n",
    "#         return x"
   ]
  },
  {
   "cell_type": "code",
   "execution_count": 17,
   "id": "a158cca0",
   "metadata": {},
   "outputs": [],
   "source": [
    "# # Activation function is ReLU\n",
    "# # Hidden space 4 neurons\n",
    "# # 6-layer network\n",
    "# class AutoEncoder(nn.Module):\n",
    "#     def __init__(self):\n",
    "#         super(AutoEncoder, self).__init__()\n",
    "\n",
    "#         self.encoder = nn.Sequential(\n",
    "#             nn.Linear(in_features=40*40, out_features=480),\n",
    "#             nn.ReLU(),\n",
    "#             nn.Linear(in_features=480, out_features=140),\n",
    "#             nn.ReLU(),\n",
    "#             nn.Linear(in_features=140, out_features=40),\n",
    "#             nn.ReLU(),\n",
    "#             nn.Linear(in_features=40, out_features=12),\n",
    "#             nn.ReLU(),\n",
    "#             nn.Linear(in_features=12, out_features=4),\n",
    "#         )\n",
    "#         self.decoder = nn.Sequential(\n",
    "#             nn.Linear(in_features=4, out_features=12),\n",
    "#             nn.ReLU(),\n",
    "#             nn.Linear(in_features=12, out_features=40),\n",
    "#             nn.ReLU(),\n",
    "#             nn.Linear(in_features=40, out_features=140),\n",
    "#             nn.ReLU(),\n",
    "#             nn.Linear(in_features=140, out_features=480),\n",
    "#             nn.ReLU(),\n",
    "#             nn.Linear(in_features=480, out_features=40*40),\n",
    "#             nn.Sigmoid(),       # compress to a range (0, 1)\n",
    "#         )\n",
    "\n",
    "#     def forward(self, x):\n",
    "#         x = self.encoder(x)\n",
    "#         x = self.decoder(x)\n",
    "#         return x"
   ]
  },
  {
   "cell_type": "code",
   "execution_count": 18,
   "id": "80be8725",
   "metadata": {},
   "outputs": [],
   "source": [
    "# # Activation function is ReLU\n",
    "# # Hidden space 4 neurons\n",
    "# # 7-layer network\n",
    "# class AutoEncoder(nn.Module):\n",
    "#     def __init__(self):\n",
    "#         super(AutoEncoder, self).__init__()\n",
    "\n",
    "#         self.encoder = nn.Sequential(\n",
    "#             nn.Linear(in_features=40*40, out_features=580),\n",
    "#             nn.ReLU(),\n",
    "#             nn.Linear(in_features=580, out_features=210),\n",
    "#             nn.ReLU(),\n",
    "#             nn.Linear(in_features=210, out_features=80),\n",
    "#             nn.ReLU(),\n",
    "#             nn.Linear(in_features=80, out_features=30),\n",
    "#             nn.ReLU(),\n",
    "#             nn.Linear(in_features=30, out_features=12),\n",
    "#             nn.ReLU(),\n",
    "#             nn.Linear(in_features=12, out_features=4),\n",
    "#         )\n",
    "#         self.decoder = nn.Sequential(\n",
    "#             nn.Linear(in_features=4, out_features=12),\n",
    "#             nn.ReLU(),\n",
    "#             nn.Linear(in_features=12, out_features=30),\n",
    "#             nn.ReLU(),\n",
    "#             nn.Linear(in_features=30, out_features=80),\n",
    "#             nn.ReLU(),\n",
    "#             nn.Linear(in_features=80, out_features=210),\n",
    "#             nn.ReLU(),\n",
    "#             nn.Linear(in_features=210, out_features=580),\n",
    "#             nn.ReLU(),\n",
    "#             nn.Linear(in_features=580, out_features=40*40),\n",
    "#             nn.Sigmoid(),       # compress to a range (0, 1)\n",
    "#         )\n",
    "\n",
    "#     def forward(self, x):\n",
    "#         x = self.encoder(x)\n",
    "#         x = self.decoder(x)\n",
    "#         return x"
   ]
  },
  {
   "cell_type": "code",
   "execution_count": 19,
   "id": "8ba52ff5",
   "metadata": {},
   "outputs": [],
   "source": [
    "# # Activation function is ReLU\n",
    "# # Hidden space 4 neurons\n",
    "# # 8-layer network\n",
    "# class AutoEncoder(nn.Module):\n",
    "#     def __init__(self):\n",
    "#         super(AutoEncoder, self).__init__()\n",
    "\n",
    "#         self.encoder = nn.Sequential(\n",
    "#             nn.Linear(in_features=40*40, out_features=680),\n",
    "#             nn.ReLU(),\n",
    "#             nn.Linear(in_features=680, out_features=280),\n",
    "#             nn.ReLU(),\n",
    "#             nn.Linear(in_features=280, out_features=120),\n",
    "#             nn.ReLU(),\n",
    "#             nn.Linear(in_features=120, out_features=50),\n",
    "#             nn.ReLU(),\n",
    "#             nn.Linear(in_features=50, out_features=22),\n",
    "#             nn.ReLU(),\n",
    "#             nn.Linear(in_features=22, out_features=9),\n",
    "#             nn.ReLU(),\n",
    "#             nn.Linear(in_features=9, out_features=4),\n",
    "#         )\n",
    "#         self.decoder = nn.Sequential(\n",
    "#             nn.Linear(in_features=4, out_features=9),\n",
    "#             nn.ReLU(),\n",
    "#             nn.Linear(in_features=9, out_features=22),\n",
    "#             nn.ReLU(),\n",
    "#             nn.Linear(in_features=22, out_features=50),\n",
    "#             nn.ReLU(),\n",
    "#             nn.Linear(in_features=50, out_features=120),\n",
    "#             nn.ReLU(),\n",
    "#             nn.Linear(in_features=120, out_features=280),\n",
    "#             nn.ReLU(),\n",
    "#             nn.Linear(in_features=280, out_features=680),\n",
    "#             nn.ReLU(),\n",
    "#             nn.Linear(in_features=680, out_features=40*40),\n",
    "#             nn.Sigmoid(),       # compress to a range (0, 1)\n",
    "#         )\n",
    "\n",
    "#     def forward(self, x):\n",
    "#         x = self.encoder(x)\n",
    "#         x = self.decoder(x)\n",
    "#         return x"
   ]
  },
  {
   "cell_type": "code",
   "execution_count": 20,
   "id": "c384887c",
   "metadata": {},
   "outputs": [],
   "source": [
    "# # Activation function is ReLU\n",
    "# # Hidden space 4 neurons\n",
    "# # 9-layer network\n",
    "# class AutoEncoder(nn.Module):\n",
    "#     def __init__(self):\n",
    "#         super(AutoEncoder, self).__init__()\n",
    "\n",
    "#         self.encoder = nn.Sequential(\n",
    "#             nn.Linear(in_features=40*40, out_features=790),\n",
    "#             nn.ReLU(),\n",
    "#             nn.Linear(in_features=790, out_features=360),\n",
    "#             nn.ReLU(),\n",
    "#             nn.Linear(in_features=360, out_features=170),\n",
    "#             nn.ReLU(),\n",
    "#             nn.Linear(in_features=170, out_features=80),\n",
    "#             nn.ReLU(),\n",
    "#             nn.Linear(in_features=80, out_features=38),\n",
    "#             nn.ReLU(),\n",
    "#             nn.Linear(in_features=38, out_features=18),\n",
    "#             nn.ReLU(),\n",
    "#             nn.Linear(in_features=18, out_features=8),\n",
    "#             nn.ReLU(),\n",
    "#             nn.Linear(in_features=8, out_features=4),\n",
    "#         )\n",
    "#         self.decoder = nn.Sequential(\n",
    "#             nn.Linear(in_features=4, out_features=8),\n",
    "#             nn.ReLU(),\n",
    "#             nn.Linear(in_features=8, out_features=18),\n",
    "#             nn.ReLU(),\n",
    "#             nn.Linear(in_features=18, out_features=38),\n",
    "#             nn.ReLU(),\n",
    "#             nn.Linear(in_features=38, out_features=80),\n",
    "#             nn.ReLU(),\n",
    "#             nn.Linear(in_features=80, out_features=170),\n",
    "#             nn.ReLU(),\n",
    "#             nn.Linear(in_features=170, out_features=360),\n",
    "#             nn.ReLU(),\n",
    "#             nn.Linear(in_features=360, out_features=790),\n",
    "#             nn.ReLU(),\n",
    "#             nn.Linear(in_features=790, out_features=40*40),\n",
    "#             nn.Sigmoid(),       # compress to a range (0, 1)\n",
    "#         )\n",
    "\n",
    "#     def forward(self, x):\n",
    "#         x = self.encoder(x)\n",
    "#         x = self.decoder(x)\n",
    "#         return x"
   ]
  },
  {
   "cell_type": "code",
   "execution_count": 21,
   "id": "580dde8c",
   "metadata": {},
   "outputs": [],
   "source": [
    "# # Activation function is ReLU\n",
    "# # Hidden space 4 neurons\n",
    "# # 10-layer network\n",
    "# class AutoEncoder(nn.Module):\n",
    "#     def __init__(self):\n",
    "#         super(AutoEncoder, self).__init__()\n",
    "\n",
    "#         self.encoder = nn.Sequential(\n",
    "#             nn.Linear(in_features=40*40, out_features=830),\n",
    "#             nn.ReLU(),\n",
    "#             nn.Linear(in_features=830, out_features=430),\n",
    "#             nn.ReLU(),\n",
    "#             nn.Linear(in_features=430, out_features=220),\n",
    "#             nn.ReLU(),\n",
    "#             nn.Linear(in_features=220, out_features=110),\n",
    "#             nn.ReLU(),\n",
    "#             nn.Linear(in_features=110, out_features=60),\n",
    "#             nn.ReLU(),\n",
    "#             nn.Linear(in_features=60, out_features=30),\n",
    "#             nn.ReLU(),\n",
    "#             nn.Linear(in_features=30, out_features=15),\n",
    "#             nn.ReLU(),\n",
    "#             nn.Linear(in_features=15, out_features=8),\n",
    "#             nn.ReLU(),\n",
    "#             nn.Linear(in_features=8, out_features=4),\n",
    "#         )\n",
    "#         self.decoder = nn.Sequential(\n",
    "#             nn.Linear(in_features=4, out_features=8),\n",
    "#             nn.ReLU(),\n",
    "#             nn.Linear(in_features=8, out_features=15),\n",
    "#             nn.ReLU(),\n",
    "#             nn.Linear(in_features=15, out_features=30),\n",
    "#             nn.ReLU(),\n",
    "#             nn.Linear(in_features=30, out_features=60),\n",
    "#             nn.ReLU(),\n",
    "#             nn.Linear(in_features=60, out_features=110),\n",
    "#             nn.ReLU(),\n",
    "#             nn.Linear(in_features=110, out_features=220),\n",
    "#             nn.ReLU(),\n",
    "#             nn.Linear(in_features=220, out_features=430),\n",
    "#             nn.ReLU(),\n",
    "#             nn.Linear(in_features=430, out_features=830),\n",
    "#             nn.ReLU(),\n",
    "#             nn.Linear(in_features=830, out_features=40*40),\n",
    "#             nn.Sigmoid(),       # compress to a range (0, 1)\n",
    "#         )\n",
    "\n",
    "#     def forward(self, x):\n",
    "#         x = self.encoder(x)\n",
    "#         x = self.decoder(x)\n",
    "#         return x"
   ]
  }
 ],
 "metadata": {
  "kernelspec": {
   "display_name": "Python 3 (ipykernel)",
   "language": "python",
   "name": "python3"
  },
  "language_info": {
   "codemirror_mode": {
    "name": "ipython",
    "version": 3
   },
   "file_extension": ".py",
   "mimetype": "text/x-python",
   "name": "python",
   "nbconvert_exporter": "python",
   "pygments_lexer": "ipython3",
   "version": "3.11.5"
  }
 },
 "nbformat": 4,
 "nbformat_minor": 5
}
