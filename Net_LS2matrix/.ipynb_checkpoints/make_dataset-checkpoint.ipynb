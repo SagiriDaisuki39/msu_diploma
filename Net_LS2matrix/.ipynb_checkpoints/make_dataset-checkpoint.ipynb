{
 "cells": [
  {
   "cell_type": "code",
   "execution_count": 2,
   "id": "0283f579",
   "metadata": {},
   "outputs": [],
   "source": [
    "import torch\n",
    "import torch.nn as nn\n",
    "import torch.utils.data as Data\n",
    "import torch.optim as optim\n",
    "from torchvision import transforms  # Import the transforms module for data preprocessing\n",
    "import matplotlib.pyplot as plt\n",
    "import numpy as np\n",
    "import os  # Import the os module to operate the file path\n",
    "from PIL import Image  # Import the Image module in the PIL library for image processing\n",
    "from tqdm import tqdm  # Progress bar module\n",
    "from time import sleep \n",
    "import time # Used to record training time"
   ]
  },
  {
   "cell_type": "code",
   "execution_count": 6,
   "id": "e9360801",
   "metadata": {},
   "outputs": [],
   "source": [
    "# Check if CUDA is installed and available for your GPU\n",
    "device = torch.device('cuda' if torch.cuda.is_available() else 'cpu')"
   ]
  },
  {
   "cell_type": "code",
   "execution_count": 15,
   "id": "ad12a1c6",
   "metadata": {},
   "outputs": [],
   "source": [
    "# 设置随机数种子\n",
    "def setup_seed(seed):\n",
    "    torch.manual_seed(seed)\n",
    "    torch.cuda.manual_seed_all(seed)\n",
    "    np.random.seed(seed)\n",
    "    # random.seed(seed)\n",
    "    torch.backends.cudnn.deterministic = True\n",
    "\n",
    "SEED = 2809\n",
    "setup_seed(SEED)"
   ]
  },
  {
   "cell_type": "markdown",
   "id": "bfc5f1fe",
   "metadata": {},
   "source": [
    "### Dataset"
   ]
  },
  {
   "cell_type": "code",
   "execution_count": 16,
   "id": "712f02c0",
   "metadata": {},
   "outputs": [],
   "source": [
    "# The class for loading datasets is used to load datasets \n",
    "# whose labels are stored in a separate txt file in the format of \"filename\\t label\"\n",
    "class CustomDataset(Data.Dataset):\n",
    "    def __init__(self, image_dir, label_file, transform=None):\n",
    "        super().__init__()  # Calling the parent class's constructor\n",
    "        self.image_dir = image_dir  # Path to the image data\n",
    "        self.label_file = label_file  # The path of the label text\n",
    "        self.transform = transform  # Data preprocessing operations\n",
    "        self.samples = self._load_samples()  # Loading dataset sample information\n",
    "\n",
    "    def _load_samples(self):\n",
    "        samples = []  # List storing sample information\n",
    "        with open(self.label_file, 'r') as f:  # Open the label text file\n",
    "            for line in f:  # Read the contents of a labeled text file line by line\n",
    "                image_name, label = line.strip().split('\\t ')  # Get the image file name and label by separating each line with tabs + spaces\n",
    "                image_path = os.path.join(self.image_dir, image_name)  # The full path to the stitched image file\n",
    "                samples.append((image_path, label))  # Combine the image path and label into a tuple and add it to the sample list\n",
    "        return samples  # Return to sample list\n",
    "\n",
    "    def __len__(self):\n",
    "        return len(self.samples)  # Returns the number of samples in the dataset\n",
    "\n",
    "    def __getitem__(self, index):\n",
    "        image_path, label = self.samples[index]  # Get the image path and label at the specified index\n",
    "        image = Image.open(image_path).convert('L')  # Open an image file and convert it to grayscale\n",
    "        if self.transform:  # If data preprocessing operations are defined\n",
    "            image = self.transform(image)  # Preprocess the image\n",
    "        return image, label  # Returns the preprocessed image and label"
   ]
  },
  {
   "cell_type": "code",
   "execution_count": 53,
   "id": "4f10cba2",
   "metadata": {},
   "outputs": [
    {
     "name": "stdout",
     "output_type": "stream",
     "text": [
      "Size of train dataset:\n",
      "18000\n",
      "Size of test dataset:\n",
      "600\n"
     ]
    }
   ],
   "source": [
    "# Set the image data path and label text path\n",
    "train_image_dir = '../AE_final/data_train/graphs/'  # Path to the image data\n",
    "train_label_file = '../AE_final/data_train/labels.txt'  # The path of the label text\n",
    "test_image_dir = '../AE_final/data_test/graphs/' \n",
    "test_label_file = '../AE_final/data_test/labels.txt'\n",
    "\n",
    "# Define data preprocessing operations and add other preprocessing operations as needed\n",
    "transform = transforms.Compose([\n",
    "    transforms.Resize((40, 40)),  # Resize the images\n",
    "    transforms.ToTensor(),  # Convert image to tensor\n",
    "])\n",
    "\n",
    "# Creating a custom dataset instance\n",
    "train_dataset = CustomDataset(train_image_dir, train_label_file, transform=transform)\n",
    "test_dataset = CustomDataset(test_image_dir, test_label_file, transform=transform)\n",
    "\n",
    "print(\"Size of train dataset:\")\n",
    "print(train_dataset.__len__())\n",
    "print(\"Size of test dataset:\")\n",
    "print(test_dataset.__len__())\n",
    "\n",
    "# Creating a Data Loader\n",
    "# Shuffle the order during training\n",
    "train_loader = Data.DataLoader(dataset=train_dataset, batch_size=1, shuffle=False)\n",
    "test_loader = Data.DataLoader(dataset=test_dataset, batch_size=1, shuffle=False)"
   ]
  },
  {
   "cell_type": "markdown",
   "id": "d7ffbbe5",
   "metadata": {},
   "source": [
    "### To load the model"
   ]
  },
  {
   "cell_type": "code",
   "execution_count": 5,
   "id": "0baf53b4",
   "metadata": {},
   "outputs": [],
   "source": [
    "class AutoEncoder(nn.Module):\n",
    "    def __init__(self):\n",
    "        super(AutoEncoder, self).__init__()\n",
    "\n",
    "        self.encoder = nn.Sequential(\n",
    "            nn.Linear(in_features=40*40, out_features=60),\n",
    "        )\n",
    "        self.decoder = nn.Sequential(\n",
    "            nn.Linear(in_features=60, out_features=40*40),\n",
    "            nn.Sigmoid(),       # compress to a range (0, 1)\n",
    "        )\n",
    "\n",
    "    def forward(self, x):\n",
    "        x = self.encoder(x)\n",
    "        x = self.decoder(x)\n",
    "        return x"
   ]
  },
  {
   "cell_type": "code",
   "execution_count": 11,
   "id": "f0dfd9ef",
   "metadata": {},
   "outputs": [],
   "source": [
    "new_model = AutoEncoder().to(device)\n",
    "new_model.load_state_dict(torch.load(\"./model_param/AE_MSE_ReLU_0.01_60.pth\"))"
   ]
  },
  {
   "cell_type": "code",
   "execution_count": 31,
   "id": "cb08b4a4",
   "metadata": {
    "scrolled": true
   },
   "outputs": [
    {
     "name": "stderr",
     "output_type": "stream",
     "text": [
      "100%|████████████████████████████████████████████████████████████████████████████████| 563/563 [00:07<00:00, 70.46it/s]"
     ]
    },
    {
     "name": "stdout",
     "output_type": "stream",
     "text": [
      "torch.Size([16, 1, 60])\n"
     ]
    },
    {
     "name": "stderr",
     "output_type": "stream",
     "text": [
      "\n"
     ]
    }
   ],
   "source": [
    "with open('test.txt', 'w') as file: # 打开文件\n",
    "    i=1\n",
    "    for data in tqdm(train_loader):\n",
    "        img, label = data\n",
    "        img = img.to(device)\n",
    "        img = img.flatten(2, 3)\n",
    "        # Forward Propagation\n",
    "        output = new_model.encoder(img)\n",
    "        torch.save(output.clone(), \"./data_train/tensor\"+str(i)+\".pth\")\n",
    "        i+=1\n",
    "        file.write(\"tensor\"+str(i)+\".pth/t\"+label) # 将内容写到文件中\n",
    "file.close() # 关闭文件，此处可以理解为保存"
   ]
  },
  {
   "cell_type": "code",
   "execution_count": 57,
   "id": "0c6d9f98",
   "metadata": {},
   "outputs": [
    {
     "name": "stdout",
     "output_type": "stream",
     "text": [
      "t01\n"
     ]
    }
   ],
   "source": []
  },
  {
   "cell_type": "code",
   "execution_count": 28,
   "id": "6041702d",
   "metadata": {},
   "outputs": [
    {
     "data": {
      "text/plain": [
       "tensor([[[  1.7006,   3.0735,  -4.2262,  -1.9697,  -0.6166,   7.1219,  -2.7854,\n",
       "           -6.8618,   1.1382,  -0.1904,   2.1502,  -1.2549,  -4.2815,   0.1048,\n",
       "           -1.7808,   1.3089,   0.2634,  -0.8934,   0.1429,   1.0675,  -2.3015,\n",
       "            1.0885,  -2.0473,   2.2689,   4.3852,  -0.1611,   3.6133,  -3.1177,\n",
       "            2.9982, -11.2891,  -4.6053,   1.3588,  -0.2409,   2.4241,   2.5561,\n",
       "           -0.2290,  -3.0681,  -1.5476,   0.3847,  -1.4688,   0.0184,  -0.1254,\n",
       "           -0.1295,  -5.4791,  -2.1459,  -1.7266,   0.7236,  -4.7088,  -8.7432,\n",
       "           -2.1161,  -0.8872,  -0.9397,   1.1814,  -3.6514,  -2.7199,   0.6761,\n",
       "           -1.1927,  -3.7133,  -0.7528,  -0.6352]]], device='cuda:0',\n",
       "       grad_fn=<ViewBackward0>)"
      ]
     },
     "execution_count": 28,
     "metadata": {},
     "output_type": "execute_result"
    }
   ],
   "source": [
    "output"
   ]
  },
  {
   "cell_type": "code",
   "execution_count": null,
   "id": "9c124b00",
   "metadata": {},
   "outputs": [],
   "source": []
  }
 ],
 "metadata": {
  "kernelspec": {
   "display_name": "Python 3 (ipykernel)",
   "language": "python",
   "name": "python3"
  },
  "language_info": {
   "codemirror_mode": {
    "name": "ipython",
    "version": 3
   },
   "file_extension": ".py",
   "mimetype": "text/x-python",
   "name": "python",
   "nbconvert_exporter": "python",
   "pygments_lexer": "ipython3",
   "version": "3.11.5"
  }
 },
 "nbformat": 4,
 "nbformat_minor": 5
}
