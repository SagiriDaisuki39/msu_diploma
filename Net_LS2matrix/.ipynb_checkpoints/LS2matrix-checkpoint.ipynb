{
 "cells": [
  {
   "cell_type": "code",
   "execution_count": 1,
   "id": "0283f579",
   "metadata": {},
   "outputs": [],
   "source": [
    "import torch\n",
    "import torch.nn as nn\n",
    "import torch.nn.functional as F\n",
    "import torch.utils.data as Data\n",
    "import torch.optim as optim\n",
    "from torchvision import transforms  # Import the transforms module for data preprocessing\n",
    "import matplotlib.pyplot as plt\n",
    "import numpy as np\n",
    "import os  # Import the os module to operate the file path\n",
    "from PIL import Image  # Import the Image module in the PIL library for image processing\n",
    "from tqdm import tqdm  # Progress bar module\n",
    "from time import sleep \n",
    "import time # Used to record training time"
   ]
  },
  {
   "cell_type": "code",
   "execution_count": 2,
   "id": "e9360801",
   "metadata": {},
   "outputs": [],
   "source": [
    "# Check if CUDA is installed and available for your GPU\n",
    "device = torch.device('cuda' if torch.cuda.is_available() else 'cpu')"
   ]
  },
  {
   "cell_type": "code",
   "execution_count": 3,
   "id": "8362c7cf",
   "metadata": {},
   "outputs": [],
   "source": [
    "# Setting Hyperparameters\n",
    "EPOCH = 10\n",
    "BATCH_SIZE = 32\n",
    "# show_size = 12         # number of pictures used to show the comparison of AE reconstruction\n",
    "LR = 0.01              # Learning rate"
   ]
  },
  {
   "cell_type": "code",
   "execution_count": 4,
   "id": "ad12a1c6",
   "metadata": {},
   "outputs": [],
   "source": [
    "# 设置随机数种子\n",
    "def setup_seed(seed):\n",
    "    torch.manual_seed(seed)\n",
    "    torch.cuda.manual_seed_all(seed)\n",
    "    np.random.seed(seed)\n",
    "    # random.seed(seed)\n",
    "    torch.backends.cudnn.deterministic = True\n",
    "\n",
    "SEED = 2809\n",
    "setup_seed(SEED)"
   ]
  },
  {
   "cell_type": "markdown",
   "id": "bfc5f1fe",
   "metadata": {},
   "source": [
    "### To load Dataset"
   ]
  },
  {
   "cell_type": "code",
   "execution_count": 5,
   "id": "712f02c0",
   "metadata": {},
   "outputs": [],
   "source": [
    "# The class for loading datasets is used to load tensor datasets \n",
    "# whose labels are stored in a separate txt file in the format of \"filename\\t label\"\n",
    "class CustomDataset(Data.Dataset):\n",
    "    def __init__(self, data_dir, label_file, transform=None):\n",
    "        super().__init__()  # Calling the parent class's constructor\n",
    "        self.data_dir = data_dir  # Path to the data\n",
    "        self.label_file = label_file  # The path of the label text\n",
    "        self.transform = transform  # Data preprocessing operations\n",
    "        self.samples = self._load_samples()  # Loading dataset sample information\n",
    "\n",
    "    def _load_samples(self):\n",
    "        samples = []  # List storing sample information\n",
    "        with open(self.label_file, 'r') as f:  # Open the label text file\n",
    "            for line in f:  # Read the contents of a labeled text file line by line\n",
    "                data_name, label_str = line.strip().split('\\t ')  # Get the data file name and label by separating each line with tabs + spaces\n",
    "                label_list = []\n",
    "                for ele in label_str:\n",
    "                    if ele != ' ':\n",
    "                        label_list.append(float(ele))\n",
    "                label = torch.tensor(label_list) # To store label as tensor\n",
    "                data_path = os.path.join(self.data_dir, data_name)  # The full path to the stitched tensor file\n",
    "                samples.append((data_path, label))  # Combine the data path and label into a tuple and add it to the sample list\n",
    "        return samples  # Return to sample list\n",
    "\n",
    "    def __len__(self):\n",
    "        return len(self.samples)  # Returns the number of samples in the dataset\n",
    "\n",
    "    def __getitem__(self, index):\n",
    "        data_path, label = self.samples[index]  # Get the data path and label at the specified index\n",
    "        data = torch.load(data_path)\n",
    "        data = torch.squeeze(data, (0, 1)) # Change the tensor shape from [1,1,60] to [60]\n",
    "        return data, label  # Returns the preprocessed data and label"
   ]
  },
  {
   "cell_type": "code",
   "execution_count": 6,
   "id": "4f10cba2",
   "metadata": {},
   "outputs": [
    {
     "name": "stdout",
     "output_type": "stream",
     "text": [
      "Size of train dataset:\n",
      "18000\n",
      "Size of test dataset:\n",
      "600\n"
     ]
    }
   ],
   "source": [
    "# Set the image data path and label text path\n",
    "train_data_dir = './dataset/data_train/'  # Path to the image data\n",
    "train_label_file = './dataset/labels_train.txt'  # The path of the label text\n",
    "test_data_dir = './dataset/data_test/' \n",
    "test_label_file = './dataset/labels_test.txt'\n",
    "\n",
    "# Creating a custom dataset instance\n",
    "train_dataset = CustomDataset(train_data_dir, train_label_file, transform=None)\n",
    "test_dataset = CustomDataset(test_data_dir, test_label_file, transform=None)\n",
    "\n",
    "print(\"Size of train dataset:\")\n",
    "print(train_dataset.__len__())\n",
    "print(\"Size of test dataset:\")\n",
    "print(test_dataset.__len__())\n",
    "\n",
    "# Creating a Data Loader\n",
    "# Shuffle the order during training\n",
    "train_loader = Data.DataLoader(dataset=train_dataset, batch_size=BATCH_SIZE, shuffle=True)\n",
    "test_loader = Data.DataLoader(dataset=test_dataset, batch_size=BATCH_SIZE, shuffle=False)"
   ]
  },
  {
   "cell_type": "markdown",
   "id": "d7ffbbe5",
   "metadata": {},
   "source": [
    "### Model"
   ]
  },
  {
   "cell_type": "code",
   "execution_count": 7,
   "id": "0baf53b4",
   "metadata": {},
   "outputs": [],
   "source": [
    "# to build module\n",
    "class Net(torch.nn.Module):\n",
    "    def __init__(self):\n",
    "        super(Net, self).__init__()\n",
    "        self.l1 = torch.nn.Linear(60, 30)\n",
    "        self.l2 = torch.nn.Linear(30, 12)\n",
    "        self.l3 = torch.nn.Linear(12, 6)\n",
    "\n",
    "    def forward(self, x):\n",
    "        x = F.relu(self.l1(x))\n",
    "        x = F.relu(self.l2(x))\n",
    "        return F.sigmoid(self.l3(x))"
   ]
  },
  {
   "cell_type": "code",
   "execution_count": 8,
   "id": "eb77a77a",
   "metadata": {},
   "outputs": [],
   "source": [
    "# Create an autoencoder object and move the model to the GPU\n",
    "model = Net().to(device)\n",
    "# Defining loss function and optimizer\n",
    "criterion = nn.MSELoss() # The loss function is the mean square error\n",
    "optimizer = optim.Adam(model.parameters(), lr=LR)"
   ]
  },
  {
   "cell_type": "markdown",
   "id": "2c392d5e",
   "metadata": {},
   "source": [
    "### To train and test the model"
   ]
  },
  {
   "cell_type": "code",
   "execution_count": 9,
   "id": "983fa0d4",
   "metadata": {
    "scrolled": false
   },
   "outputs": [
    {
     "name": "stderr",
     "output_type": "stream",
     "text": [
      "100%|████████████████████████████████████████████████████████████████████████████████| 563/563 [02:59<00:00,  3.13it/s]\n"
     ]
    },
    {
     "name": "stdout",
     "output_type": "stream",
     "text": [
      "Epoch[1/10], loss:0.0026\n"
     ]
    },
    {
     "name": "stderr",
     "output_type": "stream",
     "text": [
      "100%|████████████████████████████████████████████████████████████████████████████████| 563/563 [00:12<00:00, 43.80it/s]\n"
     ]
    },
    {
     "name": "stdout",
     "output_type": "stream",
     "text": [
      "Epoch[2/10], loss:0.0000\n"
     ]
    },
    {
     "name": "stderr",
     "output_type": "stream",
     "text": [
      "100%|████████████████████████████████████████████████████████████████████████████████| 563/563 [00:12<00:00, 43.85it/s]\n"
     ]
    },
    {
     "name": "stdout",
     "output_type": "stream",
     "text": [
      "Epoch[3/10], loss:0.0000\n"
     ]
    },
    {
     "name": "stderr",
     "output_type": "stream",
     "text": [
      "100%|████████████████████████████████████████████████████████████████████████████████| 563/563 [00:12<00:00, 43.72it/s]\n"
     ]
    },
    {
     "name": "stdout",
     "output_type": "stream",
     "text": [
      "Epoch[4/10], loss:0.0000\n"
     ]
    },
    {
     "name": "stderr",
     "output_type": "stream",
     "text": [
      "100%|████████████████████████████████████████████████████████████████████████████████| 563/563 [00:13<00:00, 42.56it/s]\n"
     ]
    },
    {
     "name": "stdout",
     "output_type": "stream",
     "text": [
      "Epoch[5/10], loss:0.0000\n"
     ]
    },
    {
     "name": "stderr",
     "output_type": "stream",
     "text": [
      "100%|████████████████████████████████████████████████████████████████████████████████| 563/563 [00:13<00:00, 43.12it/s]\n"
     ]
    },
    {
     "name": "stdout",
     "output_type": "stream",
     "text": [
      "Epoch[6/10], loss:0.0000\n"
     ]
    },
    {
     "name": "stderr",
     "output_type": "stream",
     "text": [
      "100%|████████████████████████████████████████████████████████████████████████████████| 563/563 [00:13<00:00, 40.99it/s]\n"
     ]
    },
    {
     "name": "stdout",
     "output_type": "stream",
     "text": [
      "Epoch[7/10], loss:0.0000\n"
     ]
    },
    {
     "name": "stderr",
     "output_type": "stream",
     "text": [
      "100%|████████████████████████████████████████████████████████████████████████████████| 563/563 [00:14<00:00, 38.42it/s]\n"
     ]
    },
    {
     "name": "stdout",
     "output_type": "stream",
     "text": [
      "Epoch[8/10], loss:0.0000\n"
     ]
    },
    {
     "name": "stderr",
     "output_type": "stream",
     "text": [
      "100%|████████████████████████████████████████████████████████████████████████████████| 563/563 [00:14<00:00, 37.57it/s]\n"
     ]
    },
    {
     "name": "stdout",
     "output_type": "stream",
     "text": [
      "Epoch[9/10], loss:0.0000\n"
     ]
    },
    {
     "name": "stderr",
     "output_type": "stream",
     "text": [
      "100%|████████████████████████████████████████████████████████████████████████████████| 563/563 [00:13<00:00, 42.61it/s]\n"
     ]
    },
    {
     "name": "stdout",
     "output_type": "stream",
     "text": [
      "Epoch[10/10], loss:0.0000\n"
     ]
    }
   ],
   "source": [
    "train_loss_list = [] # The average training loss of every epoch\n",
    "test_loss_list = []  # The average testing loss of every epoch\n",
    "loss_list = [] # The average training loss of every batch\n",
    "time_list = [] # The time afer training every batch\n",
    "\n",
    "# Training the Autoencoder\n",
    "start_time = time.time()\n",
    "for epoch in range(EPOCH):\n",
    "    train_loss = 0\n",
    "    count = 0\n",
    "    for train_data in tqdm(train_loader):\n",
    "        datas, labels = train_data\n",
    "        datas = datas.to(device)\n",
    "        # Forward Propagation\n",
    "        output = model(datas)                      # Calculating Losses\n",
    "        loss = criterion(output, labels.to(device))                       # Calculating Losses\n",
    "        time_list.append(time.time() - start_time)          # Recording time\n",
    "        loss_list.append(loss.data)\n",
    "        count += 1\n",
    "        train_loss += loss.data\n",
    "        # Backpropagation and optimizer optimization\n",
    "        optimizer.zero_grad()\n",
    "        loss.backward()\n",
    "        optimizer.step()\n",
    "        sleep(0.001)\n",
    "    train_loss_list.append(train_loss/count) # Record the average training loss of this epoch\n",
    "    print(\"Epoch[{}/{}], loss:{:.4f}\".format(epoch+1, EPOCH, loss.data))\n",
    "    \n",
    "    # After each epoch of training, the test set is tested once and the average loss is recorded.\n",
    "    dataiter = iter(test_loader)\n",
    "    test_loss = 0\n",
    "    count = 0\n",
    "    # Loop through all iterators\n",
    "    for j in range(len(iter(test_loader))):\n",
    "        # Get the next batch of images and labels from the iterator\n",
    "        datas, labels = next(dataiter)\n",
    "\n",
    "        # Use the model to perform inference, \n",
    "        # process the acquired image data, and save the result in the output variable\n",
    "        output = model(datas.to(device))\n",
    "        count += 1\n",
    "        test_loss += criterion(output, labels.to(device)).data\n",
    "    test_loss_list.append(test_loss/count)"
   ]
  },
  {
   "cell_type": "markdown",
   "id": "92ddab93",
   "metadata": {},
   "source": [
    "### Record the loss value of the training process in a csv file\n",
    "\n",
    "file name:\"Net_MSE_ReLU_0.01_60_30_12_6.csv\" \n",
    "\n",
    "Activation Function_Loss Function_Learning Rate_number of networks in each layer"
   ]
  },
  {
   "cell_type": "code",
   "execution_count": 10,
   "id": "4031a48a",
   "metadata": {},
   "outputs": [],
   "source": [
    "import csv\n",
    "\n",
    "with open(\"./epoch_train_test_param/Net_MSE_ReLU_0.01_60_30_12_6.csv\",\"w\", newline='') as csvfile: \n",
    "    writer = csv.writer(csvfile)\n",
    "\n",
    "    # To write columns_name\n",
    "    writer.writerow([\"epoch\",\"train_loss\",\"test_loss\"])\n",
    "    # To write many rows\n",
    "    for i in range(EPOCH):\n",
    "        writer.writerow([i+1, train_loss_list[i].item(), test_loss_list[i].item()])"
   ]
  },
  {
   "cell_type": "code",
   "execution_count": 11,
   "id": "822ee465",
   "metadata": {},
   "outputs": [],
   "source": [
    "with open(\"./time_loss_param/Net_MSE_ReLU_0.01_60_30_12_6.csv\",\"w\", newline='') as csvfile: \n",
    "    writer = csv.writer(csvfile)\n",
    "\n",
    "    writer.writerow([\"time\",\"loss\"])\n",
    "    for i in range(len(time_list)):\n",
    "        writer.writerow([time_list[i], loss_list[i].item()])"
   ]
  },
  {
   "cell_type": "markdown",
   "id": "ac97e4e9",
   "metadata": {},
   "source": [
    "### To save parametures of the model"
   ]
  },
  {
   "cell_type": "code",
   "execution_count": 12,
   "id": "e8682e3d",
   "metadata": {},
   "outputs": [],
   "source": [
    "torch.save(model.state_dict(), \"./model_param/Net_MSE_60_30_12_6_ReLU.pth\")"
   ]
  },
  {
   "cell_type": "markdown",
   "id": "b8120bbf",
   "metadata": {},
   "source": [
    "### To test the model"
   ]
  },
  {
   "cell_type": "code",
   "execution_count": 13,
   "id": "f0ccacd9",
   "metadata": {},
   "outputs": [
    {
     "name": "stdout",
     "output_type": "stream",
     "text": [
      "0.9983333333333333\n"
     ]
    }
   ],
   "source": [
    "# After each epoch of training, the test set is tested once and the average loss is recorded.\n",
    "dataiter = iter(test_loader)\n",
    "count_right = 0\n",
    "count = 0\n",
    "# Loop through all iterators\n",
    "for j in range(len(iter(test_loader))):\n",
    "    # Get the next batch of images and labels from the iterator\n",
    "    datas, labels = next(dataiter)\n",
    "    # data = data.flatten(2, 3)\n",
    "\n",
    "    # Use the model to perform inference, \n",
    "    # process the acquired image data, and save the result in the output variable\n",
    "    output = model(datas.to(device))\n",
    "    for i in range(output.size()[0]):\n",
    "        if torch.round(output[i]).equal(labels[i].to(device)):\n",
    "            count_right += 1\n",
    "        count += 1\n",
    "        \n",
    "# accuracy        \n",
    "print(float(count_right/count))"
   ]
  },
  {
   "cell_type": "code",
   "execution_count": null,
   "id": "bfc94efa",
   "metadata": {},
   "outputs": [],
   "source": []
  }
 ],
 "metadata": {
  "kernelspec": {
   "display_name": "Python 3 (ipykernel)",
   "language": "python",
   "name": "python3"
  },
  "language_info": {
   "codemirror_mode": {
    "name": "ipython",
    "version": 3
   },
   "file_extension": ".py",
   "mimetype": "text/x-python",
   "name": "python",
   "nbconvert_exporter": "python",
   "pygments_lexer": "ipython3",
   "version": "3.11.5"
  }
 },
 "nbformat": 4,
 "nbformat_minor": 5
}
