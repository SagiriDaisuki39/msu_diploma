{
 "cells": [
  {
   "cell_type": "code",
   "execution_count": 1,
   "id": "c686432d-3aa6-4fc7-9d17-c48eda383c98",
   "metadata": {},
   "outputs": [],
   "source": [
    "import torch\n",
    "import torch.nn as nn\n",
    "import torch.utils.data as Data\n",
    "import torch.optim as optim\n",
    "from torchvision import transforms  # Import the transforms module for data preprocessing\n",
    "import matplotlib.pyplot as plt\n",
    "import numpy as np\n",
    "import os  # Import the os module to operate the file path\n",
    "from PIL import Image  # Import the Image module in the PIL library for image processing\n",
    "from tqdm import tqdm  # Progress bar module\n",
    "from time import sleep \n",
    "import time # Used to record training time"
   ]
  },
  {
   "cell_type": "code",
   "execution_count": 2,
   "id": "d521a6b2-c916-406a-b45e-4e08640e774a",
   "metadata": {},
   "outputs": [],
   "source": [
    "# Setting Hyperparameters\n",
    "EPOCH = 35\n",
    "BATCH_SIZE = 32\n",
    "show_size = 12         # number of pictures used to show the comparison of AE reconstruction\n",
    "LR = 0.01              # Learning rate"
   ]
  },
  {
   "cell_type": "code",
   "execution_count": 3,
   "id": "fc67f5df",
   "metadata": {},
   "outputs": [],
   "source": [
    "# 设置随机数种子\n",
    "def setup_seed(seed):\n",
    "    torch.manual_seed(seed)\n",
    "    torch.cuda.manual_seed_all(seed)\n",
    "    np.random.seed(seed)\n",
    "    # random.seed(seed)\n",
    "    torch.backends.cudnn.deterministic = True\n",
    "\n",
    "SEED = 2809\n",
    "setup_seed(SEED)"
   ]
  },
  {
   "cell_type": "markdown",
   "id": "799e11ec",
   "metadata": {},
   "source": [
    "### Dataset"
   ]
  },
  {
   "cell_type": "code",
   "execution_count": 4,
   "id": "3c5bd342-178a-4de0-9ef7-bba308af88bb",
   "metadata": {},
   "outputs": [],
   "source": [
    "# The class for loading datasets is used to load datasets \n",
    "# whose labels are stored in a separate txt file in the format of \"filename\\t label\"\n",
    "class CustomDataset(Data.Dataset):\n",
    "    def __init__(self, image_dir, label_file, transform=None):\n",
    "        super().__init__()  # Calling the parent class's constructor\n",
    "        self.image_dir = image_dir  # Path to the image data\n",
    "        self.label_file = label_file  # The path of the label text\n",
    "        self.transform = transform  # Data preprocessing operations\n",
    "        self.samples = self._load_samples()  # Loading dataset sample information\n",
    "\n",
    "    def _load_samples(self):\n",
    "        samples = []  # List storing sample information\n",
    "        with open(self.label_file, 'r') as f:  # Open the label text file\n",
    "            for line in f:  # Read the contents of a labeled text file line by line\n",
    "                image_name, label = line.strip().split('\\t ')  # Get the image file name and label by separating each line with tabs + spaces\n",
    "                image_path = os.path.join(self.image_dir, image_name)  # The full path to the stitched image file\n",
    "                samples.append((image_path, label))  # Combine the image path and label into a tuple and add it to the sample list\n",
    "        return samples  # Return to sample list\n",
    "\n",
    "    def __len__(self):\n",
    "        return len(self.samples)  # Returns the number of samples in the dataset\n",
    "\n",
    "    def __getitem__(self, index):\n",
    "        image_path, label = self.samples[index]  # Get the image path and label at the specified index\n",
    "        image = Image.open(image_path).convert('L')  # Open an image file and convert it to grayscale\n",
    "        if self.transform:  # If data preprocessing operations are defined\n",
    "            image = self.transform(image)  # Preprocess the image\n",
    "        return image, label  # Returns the preprocessed image and label"
   ]
  },
  {
   "cell_type": "code",
   "execution_count": 5,
   "id": "fafb763d-517d-463d-be2a-0eb8f20fdea0",
   "metadata": {
    "scrolled": false
   },
   "outputs": [
    {
     "name": "stdout",
     "output_type": "stream",
     "text": [
      "Size of train dataset:\n",
      "18000\n",
      "Size of test dataset:\n",
      "600\n",
      "Size of show dataset:\n",
      "12\n"
     ]
    }
   ],
   "source": [
    "# Check if CUDA is installed and available for your GPU\n",
    "device = torch.device('cuda' if torch.cuda.is_available() else 'cpu')\n",
    "\n",
    "# Set the image data path and label text path\n",
    "train_image_dir = '../data_train/graphs/'  # Path to the image data\n",
    "train_label_file = '../data_train/labels.txt'  # The path of the label text\n",
    "test_image_dir = '../data_test/graphs/' \n",
    "test_label_file = '../data_test/labels.txt'  \n",
    "show_image_dir = '../data_test/graphs_12/'\n",
    "show_label_file = '../data_test/labels_12.txt'\n",
    "\n",
    "# Define data preprocessing operations and add other preprocessing operations as needed\n",
    "transform = transforms.Compose([\n",
    "    transforms.Resize((40, 40)),  # Resize the images\n",
    "    transforms.ToTensor(),  # Convert image to tensor\n",
    "])\n",
    "\n",
    "# Creating a custom dataset instance\n",
    "train_dataset = CustomDataset(train_image_dir, train_label_file, transform=transform)\n",
    "test_dataset = CustomDataset(test_image_dir, test_label_file, transform=transform)\n",
    "show_dataset = CustomDataset(show_image_dir, show_label_file, transform=transform)\n",
    "\n",
    "print(\"Size of train dataset:\")\n",
    "print(train_dataset.__len__())\n",
    "print(\"Size of test dataset:\")\n",
    "print(test_dataset.__len__())\n",
    "print(\"Size of show dataset:\")\n",
    "print(show_dataset.__len__())\n",
    "\n",
    "# Creating a Data Loader\n",
    "# Shuffle the order during training\n",
    "train_loader = Data.DataLoader(dataset=train_dataset, batch_size=BATCH_SIZE, shuffle=True)\n",
    "test_loader = Data.DataLoader(dataset=test_dataset, batch_size=BATCH_SIZE, shuffle=False)\n",
    "show_loader = Data.DataLoader(dataset=show_dataset, batch_size=show_size, shuffle=False)"
   ]
  },
  {
   "cell_type": "markdown",
   "id": "d53cb001",
   "metadata": {},
   "source": [
    "### AE"
   ]
  },
  {
   "cell_type": "code",
   "execution_count": 6,
   "id": "59b4ae3c",
   "metadata": {},
   "outputs": [],
   "source": [
    "# Activation function is ReLU\n",
    "# Hidden space 60 neurons\n",
    "# 2-layer network\n",
    "class AutoEncoder(nn.Module):\n",
    "    def __init__(self):\n",
    "        super(AutoEncoder, self).__init__()\n",
    "\n",
    "        self.encoder = nn.Sequential(\n",
    "            nn.Linear(in_features=40*40, out_features=60),\n",
    "        )\n",
    "        self.decoder = nn.Sequential(\n",
    "            nn.Linear(in_features=60, out_features=40*40),\n",
    "            nn.Sigmoid(),       # compress to a range (0, 1)\n",
    "        )\n",
    "\n",
    "    def forward(self, x):\n",
    "        x = self.encoder(x)\n",
    "        x = self.decoder(x)\n",
    "        return x"
   ]
  },
  {
   "cell_type": "code",
   "execution_count": 7,
   "id": "7f175eed-e0b9-42b3-b9c8-cc2dddfaa795",
   "metadata": {},
   "outputs": [],
   "source": [
    "# Create an autoencoder object and move the model to the GPU\n",
    "model = AutoEncoder().to(device)\n",
    "# Defining loss function and optimizer\n",
    "criterion = nn.MSELoss() # The loss function is the mean square error\n",
    "optimizer = optim.Adam(model.parameters(), lr=LR)"
   ]
  },
  {
   "cell_type": "markdown",
   "id": "fbbdba53",
   "metadata": {},
   "source": [
    "### Training and testing of AE"
   ]
  },
  {
   "cell_type": "code",
   "execution_count": null,
   "id": "0f6f688b-dd32-4391-a0f5-72097b5ac1c8",
   "metadata": {},
   "outputs": [
    {
     "name": "stderr",
     "output_type": "stream",
     "text": [
      "100%|████████████████████████████████████████████████████████████████████████████████| 563/563 [00:08<00:00, 66.80it/s]\n"
     ]
    },
    {
     "name": "stdout",
     "output_type": "stream",
     "text": [
      "Epoch[1/35], loss:0.0051\n"
     ]
    },
    {
     "name": "stderr",
     "output_type": "stream",
     "text": [
      "100%|████████████████████████████████████████████████████████████████████████████████| 563/563 [00:09<00:00, 59.93it/s]"
     ]
    }
   ],
   "source": [
    "train_loss_list = [] # The average training loss of every epoch\n",
    "test_loss_list = []  # The average testing loss of every epoch\n",
    "loss_list = [] # The average training loss of every batch\n",
    "time_list = [] # The time afer training every batch\n",
    "\n",
    "# Training the Autoencoder\n",
    "start_time = time.time()\n",
    "for epoch in range(EPOCH):\n",
    "    train_loss = 0\n",
    "    count = 0\n",
    "    for data in tqdm(train_loader):\n",
    "        img, _ = data\n",
    "        img = img.to(device)\n",
    "        img = img.flatten(2, 3)\n",
    "        # Forward Propagation\n",
    "        output = model(img)\n",
    "        loss = criterion(output, img)                       # Calculating Losses\n",
    "        time_list.append(time.time() - start_time)          # Recording time\n",
    "        loss_list.append(loss.data)\n",
    "        count += 1\n",
    "        train_loss += loss.data\n",
    "        # Backpropagation and optimizer optimization\n",
    "        optimizer.zero_grad()\n",
    "        loss.backward()\n",
    "        optimizer.step()\n",
    "        sleep(0.001)\n",
    "    train_loss_list.append(train_loss/count) # Record the average training loss of this epoch\n",
    "    print(\"Epoch[{}/{}], loss:{:.4f}\".format(epoch+1, EPOCH, loss.data))\n",
    "    \n",
    "    # After each epoch of training, the test set is tested once and the average loss is recorded.\n",
    "    dataiter = iter(test_loader)\n",
    "    test_loss = 0\n",
    "    count = 0\n",
    "    # Loop through all iterators\n",
    "    for j in range(len(iter(test_loader))):\n",
    "        # Get the next batch of images and labels from the iterator\n",
    "        images, labels = next(dataiter)\n",
    "        images = images.flatten(2, 3)\n",
    "\n",
    "        # Use the model to perform inference, \n",
    "        # process the acquired image data, and save the result in the output variable\n",
    "        output = model(images.to(device))\n",
    "        count += 1\n",
    "        test_loss += criterion(output, images.to(device)).data\n",
    "    test_loss_list.append(test_loss/count)"
   ]
  },
  {
   "cell_type": "markdown",
   "id": "6dcd4323",
   "metadata": {},
   "source": [
    "### Record the loss value of the training process in a csv file\n",
    "\n",
    "file name:\"AE_MSE_ReLU_0.01_60.csv\" \n",
    "\n",
    "Activation Function_Loss Function_Learning Rate_number of networks in each layer"
   ]
  },
  {
   "cell_type": "code",
   "execution_count": null,
   "id": "95cf1f55",
   "metadata": {},
   "outputs": [],
   "source": [
    "import csv\n",
    "\n",
    "with open(\"./epoch_train_test_param/AE_MSE_ReLU_0.01_60.csv\",\"w\", newline='') as csvfile: \n",
    "    writer = csv.writer(csvfile)\n",
    "\n",
    "    # To write columns_name\n",
    "    writer.writerow([\"epoch\",\"train_loss\",\"test_loss\"])\n",
    "    # To write many rows\n",
    "    for i in range(EPOCH):\n",
    "        writer.writerow([i+1, train_loss_list[i].item(), test_loss_list[i].item()])"
   ]
  },
  {
   "cell_type": "code",
   "execution_count": null,
   "id": "9819d8c3",
   "metadata": {},
   "outputs": [],
   "source": [
    "with open(\"./time_loss_param/AE_MSE_ReLU_0.01_60.csv\",\"w\", newline='') as csvfile: \n",
    "    writer = csv.writer(csvfile)\n",
    "\n",
    "    writer.writerow([\"time\",\"loss\"])\n",
    "    for i in range(len(time_list)):\n",
    "        writer.writerow([time_list[i], loss_list[i].item()])"
   ]
  },
  {
   "cell_type": "markdown",
   "id": "e6877380",
   "metadata": {},
   "source": [
    "### To save parametures of the model"
   ]
  },
  {
   "cell_type": "code",
   "execution_count": null,
   "id": "9bb55a0c",
   "metadata": {},
   "outputs": [],
   "source": [
    "torch.save(model.state_dict(), \"./model_param/AE_MSE_ReLU_0.01_60.pth\")"
   ]
  },
  {
   "cell_type": "markdown",
   "id": "2abdf774",
   "metadata": {},
   "source": [
    "### Show comparison of pictures"
   ]
  },
  {
   "cell_type": "code",
   "execution_count": null,
   "id": "afed8edc",
   "metadata": {
    "scrolled": false
   },
   "outputs": [],
   "source": [
    "# Iterate over the test dataset and generate an iterator\n",
    "dataiter = iter(show_loader)\n",
    "\n",
    "# Loop through all iterators\n",
    "for j in range(len(iter(show_loader))):\n",
    "    # Get the next batch of images and labels from the iterator\n",
    "    images, labels = next(dataiter)\n",
    "    images = images.flatten(2, 3)\n",
    "\n",
    "    # Use the model to perform inference, \n",
    "    # process the acquired image data, and save the result in the output variable\n",
    "    output = model(images.to(device))\n",
    "    output = output.reshape([show_size, 1, 40, 40])\n",
    "    images = images.reshape([show_size, 1, 40, 40])\n",
    "\n",
    "    # Create subplots and axes objects \n",
    "    # where the first row shows the original image and the second row shows the reconstructed image\n",
    "    fig, axes = plt.subplots(nrows=2, ncols=show_size, sharex=True, sharey=True, figsize=(24,4))\n",
    "\n",
    "    # Loop through the 12 images in the iterator, \n",
    "    # draw the original image and the reconstructed image and add a title\n",
    "    for i in range(show_size):\n",
    "        # Display original image\n",
    "        axes[0,i].imshow(images[i].squeeze().numpy(), cmap='gray')\n",
    "        axes[0,i].set_title(\"Original\")\n",
    "        axes[0,i].get_xaxis().set_visible(False)\n",
    "        axes[0,i].get_yaxis().set_visible(False)\n",
    "\n",
    "        # Display the reconstructed image\n",
    "        axes[1,i].imshow(output[i].squeeze().cpu().detach().numpy(), cmap='gray')\n",
    "        axes[1,i].set_title(\"Reconstruction\")\n",
    "        axes[1,i].get_xaxis().set_visible(False)\n",
    "        axes[1,i].get_yaxis().set_visible(False)\n",
    "\n",
    "    plt.savefig('./pic_reconstruction/AE_MSE_ReLU_0.01_60_ep35.png', dpi=300)\n",
    "    # Display the generated subgraph\n",
    "    plt.show()"
   ]
  }
 ],
 "metadata": {
  "kernelspec": {
   "display_name": "Python 3 (ipykernel)",
   "language": "python",
   "name": "python3"
  },
  "language_info": {
   "codemirror_mode": {
    "name": "ipython",
    "version": 3
   },
   "file_extension": ".py",
   "mimetype": "text/x-python",
   "name": "python",
   "nbconvert_exporter": "python",
   "pygments_lexer": "ipython3",
   "version": "3.11.5"
  }
 },
 "nbformat": 4,
 "nbformat_minor": 5
}
