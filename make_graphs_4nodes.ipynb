{
 "cells": [
  {
   "cell_type": "code",
   "execution_count": 2,
   "id": "07a39efa-58a1-4650-8ec2-72a38db51147",
   "metadata": {},
   "outputs": [],
   "source": [
    "import graphviz\n",
    "import random"
   ]
  },
  {
   "cell_type": "markdown",
   "id": "43e76958-db0e-4966-ac3d-98d7e80f699c",
   "metadata": {},
   "source": [
    "## 测试随机数"
   ]
  },
  {
   "cell_type": "code",
   "execution_count": 7,
   "id": "76f4e5d0-791c-4525-a0f6-32f098d1e48c",
   "metadata": {},
   "outputs": [
    {
     "name": "stdout",
     "output_type": "stream",
     "text": [
      "6\n",
      "15\n",
      "-16\n",
      "14\n",
      "-1\n",
      "2\n",
      "-9\n",
      "-1\n",
      "-4\n",
      "-4\n",
      "20\n",
      "17\n",
      "-4\n",
      "-18\n",
      "16\n",
      "2\n",
      "15\n",
      "4\n",
      "-7\n",
      "19\n"
     ]
    }
   ],
   "source": [
    "a=100\n",
    "for i in range(20):\n",
    "    print(str(random.randint(-20,20)))"
   ]
  },
  {
   "cell_type": "markdown",
   "id": "ba27d41f-4be6-43e0-893b-dc405d7878e8",
   "metadata": {},
   "source": [
    "## 随机绘制全部6种四顶点连通图各3100张"
   ]
  },
  {
   "cell_type": "code",
   "execution_count": 20,
   "id": "580b5bef-dd60-4acd-929f-a84f0b64cda9",
   "metadata": {},
   "outputs": [],
   "source": [
    "for i in range(3100):\n",
    "    # 小范围内生成随机坐标\n",
    "    x_1 = str(0+random.randint(-10,10))\n",
    "    x_2 = str(100+random.randint(-10,10))\n",
    "    x_3 = str(0+random.randint(-10,10))\n",
    "    x_4 = str(100+random.randint(-10,10))\n",
    "    y_1 = str(0+random.randint(-10,10))\n",
    "    y_2 = str(0+random.randint(-10,10))\n",
    "    y_3 = str(100+random.randint(-10,10))\n",
    "    y_4 = str(100+random.randint(-10,10))\n",
    "    \n",
    "    # 类型为1的图片\n",
    "    n = graphviz.Graph(name='t01_pic'+str(i), format=\"png\", engine='neato', graph_attr={'splines': 'true', 'width': '10'}, node_attr={'shape': 'point'})\n",
    "    n.node('a', pos=x_1+','+y_1+'!', **{'width': '0.15', 'height': '0.15'})\n",
    "    n.node('b', pos=x_2+','+y_2+'!', **{'width': '0.15', 'height': '0.15'})\n",
    "    n.node('c', pos=x_3+','+y_3+'!', **{'width': '0.15', 'height': '0.15'})\n",
    "    n.node('d', pos=x_4+','+y_4+'!', **{'width': '0.15', 'height': '0.15'})\n",
    "    n.edge('a', 'b')\n",
    "    n.edge('a', 'd')\n",
    "    n.edge('b', 'd')\n",
    "    n.edge('c', 'd')\n",
    "    n.render(neato_no_op=2, filename='t01_pic'+str(i), directory='graphs_4nodes').replace('\\\\', '/')\n",
    "    \n",
    "    # 类型为2的图片\n",
    "    n = graphviz.Graph(name='t02_pic'+str(i), format=\"png\", engine='neato', graph_attr={'splines': 'true', 'width': '10'}, node_attr={'shape': 'point'})\n",
    "    n.node('a', pos=x_1+','+y_1+'!', **{'width': '0.15', 'height': '0.15'})\n",
    "    n.node('b', pos=x_2+','+y_2+'!', **{'width': '0.15', 'height': '0.15'})\n",
    "    n.node('c', pos=x_3+','+y_3+'!', **{'width': '0.15', 'height': '0.15'})\n",
    "    n.node('d', pos=x_4+','+y_4+'!', **{'width': '0.15', 'height': '0.15'})\n",
    "    n.edge('a', 'b')\n",
    "    n.edge('a', 'd')\n",
    "    n.edge('b', 'd')\n",
    "    n.edge('c', 'd')\n",
    "    n.edge('a', 'c')\n",
    "    n.render(neato_no_op=2, filename='t02_pic'+str(i), directory='graphs_4nodes').replace('\\\\', '/')\n",
    "    \n",
    "    # 类型为4的图片\n",
    "    n = graphviz.Graph(name='t04_pic'+str(i), format=\"png\", engine='neato', graph_attr={'splines': 'true', 'width': '10'}, node_attr={'shape': 'point'})\n",
    "    n.node('a', pos=x_1+','+y_1+'!', **{'width': '0.15', 'height': '0.15'})\n",
    "    n.node('b', pos=x_2+','+y_2+'!', **{'width': '0.15', 'height': '0.15'})\n",
    "    n.node('c', pos=x_3+','+y_3+'!', **{'width': '0.15', 'height': '0.15'})\n",
    "    n.node('d', pos=x_4+','+y_4+'!', **{'width': '0.15', 'height': '0.15'})\n",
    "    n.edge('b', 'd')\n",
    "    n.edge('c', 'd')\n",
    "    n.edge('a', 'c')\n",
    "    n.render(neato_no_op=2, filename='t04_pic'+str(i), directory='graphs_4nodes').replace('\\\\', '/')\n",
    "\n",
    "    # 类型为5的图片\n",
    "    n = graphviz.Graph(name='t05_pic'+str(i), format=\"png\", engine='neato', graph_attr={'splines': 'true', 'width': '10'}, node_attr={'shape': 'point'})\n",
    "    n.node('a', pos=x_1+','+y_1+'!', **{'width': '0.15', 'height': '0.15'})\n",
    "    n.node('b', pos=x_2+','+y_2+'!', **{'width': '0.15', 'height': '0.15'})\n",
    "    n.node('c', pos=x_3+','+y_3+'!', **{'width': '0.15', 'height': '0.15'})\n",
    "    n.node('d', pos=x_4+','+y_4+'!', **{'width': '0.15', 'height': '0.15'})\n",
    "    n.edge('b', 'c')\n",
    "    n.edge('c', 'd')\n",
    "    n.edge('a', 'c')\n",
    "    n.render(neato_no_op=2, filename='t05_pic'+str(i), directory='graphs_4nodes').replace('\\\\', '/')\n",
    "\n",
    "    # 类型为6的图片\n",
    "    n = graphviz.Graph(name='t06_pic'+str(i), format=\"png\", engine='neato', graph_attr={'splines': 'true', 'width': '10'}, node_attr={'shape': 'point'})\n",
    "    n.node('a', pos=x_1+','+y_1+'!', **{'width': '0.15', 'height': '0.15'})\n",
    "    n.node('b', pos=x_2+','+y_2+'!', **{'width': '0.15', 'height': '0.15'})\n",
    "    n.node('c', pos=x_3+','+y_3+'!', **{'width': '0.15', 'height': '0.15'})\n",
    "    n.node('d', pos=x_4+','+y_4+'!', **{'width': '0.15', 'height': '0.15'})\n",
    "    n.edge('a', 'b')\n",
    "    n.edge('b', 'd')\n",
    "    n.edge('c', 'd')\n",
    "    n.edge('a', 'c')\n",
    "    n.render(neato_no_op=2, filename='t06_pic'+str(i), directory='graphs_4nodes').replace('\\\\', '/')\n",
    "    \n",
    "    # 类型为3的图片\n",
    "    x_1 = str(0+random.randint(-10,10))\n",
    "    x_2 = str(87+random.randint(-10,10))\n",
    "    x_3 = str(-87+random.randint(-10,10))\n",
    "    x_4 = str(0+random.randint(-10,10))\n",
    "    y_1 = str(0+random.randint(-10,10))\n",
    "    y_2 = str(50+random.randint(-10,10))\n",
    "    y_3 = str(50+random.randint(-10,10))\n",
    "    y_4 = str(-100+random.randint(-10,10))\n",
    "    n = graphviz.Graph(name='t03_pic'+str(i), format=\"png\", engine='neato', graph_attr={'splines': 'true', 'width': '25'}, node_attr={'shape': 'point'})\n",
    "    n.node('a', pos=x_1+','+y_1+'!', **{'width': '0.2', 'height': '0.2'})\n",
    "    n.node('b', pos=x_2+','+y_2+'!', **{'width': '0.2', 'height': '0.2'})\n",
    "    n.node('c', pos=x_3+','+y_3+'!', **{'width': '0.2', 'height': '0.2'})\n",
    "    n.node('d', pos=x_4+','+y_4+'!', **{'width': '0.2', 'height': '0.2'})\n",
    "    n.edge('a', 'b')\n",
    "    n.edge('a', 'd')\n",
    "    n.edge('a', 'c')\n",
    "    n.edge('b', 'c')\n",
    "    n.edge('d', 'b')\n",
    "    n.edge('c', 'd')\n",
    "    n.render(neato_no_op=2, filename='t03_pic'+str(i), directory='graphs_4nodes').replace('\\\\', '/')"
   ]
  },
  {
   "cell_type": "code",
   "execution_count": 21,
   "id": "03bc81ae-5093-4325-96c4-c7e7edf0fc2a",
   "metadata": {},
   "outputs": [],
   "source": [
    "import os\n",
    "\n",
    "input_dir='./graphs_4nodes/'\n",
    " \n",
    "for filename in os.listdir(input_dir):\n",
    "    if not filename.endswith('.png'):\n",
    "        targetFile = os.path.join(input_dir, filename) \n",
    "        if os.path.isfile(targetFile): \n",
    "            os.remove(targetFile)"
   ]
  },
  {
   "cell_type": "markdown",
   "id": "39c39201-82ff-498f-8ec6-97f2ccb1fa53",
   "metadata": {},
   "source": [
    "## 绘制全部6种四顶点连通图（正方）"
   ]
  },
  {
   "cell_type": "code",
   "execution_count": 136,
   "id": "131dbef4-ec91-4c3b-9b16-4171ec1668e4",
   "metadata": {},
   "outputs": [
    {
     "data": {
      "text/plain": [
       "'graphs_4nodes/pic01_t00.png'"
      ]
     },
     "execution_count": 136,
     "metadata": {},
     "output_type": "execute_result"
    }
   ],
   "source": [
    "n = graphviz.Graph(name='pic01_t00', format=\"png\", engine='neato', graph_attr={'splines': 'true', 'width': '10'}, node_attr={'shape': 'point'})\n",
    "n.node('a', pos='0,0!', **{'width': '0.15', 'height': '0.15'})\n",
    "n.node('b', pos='100,0!', **{'width': '0.15', 'height': '0.15'})\n",
    "n.node('c', pos='0,100!', **{'width': '0.15', 'height': '0.15'})\n",
    "n.node('d', pos='100,100!', **{'width': '0.15', 'height': '0.15'})\n",
    "n.edge('a', 'b')\n",
    "n.edge('a', 'd')\n",
    "n.edge('b', 'd')\n",
    "n.edge('c', 'd')\n",
    "n.render(neato_no_op=2, filename='pic01_t00', directory='graphs_4nodes').replace('\\\\', '/')"
   ]
  },
  {
   "cell_type": "code",
   "execution_count": 137,
   "id": "959c3a34-af59-4d4f-b769-4cfe73cdaf41",
   "metadata": {},
   "outputs": [
    {
     "data": {
      "text/plain": [
       "'graphs_4nodes/pic02_t00.png'"
      ]
     },
     "execution_count": 137,
     "metadata": {},
     "output_type": "execute_result"
    }
   ],
   "source": [
    "n = graphviz.Graph(name='pic02_t00', format=\"png\", engine='neato', graph_attr={'splines': 'true', 'width': '10'}, node_attr={'shape': 'point'})\n",
    "n.node('a', pos='0,0!', **{'width': '0.15', 'height': '0.15'})\n",
    "n.node('b', pos='100,0!', **{'width': '0.15', 'height': '0.15'})\n",
    "n.node('c', pos='0,100!', **{'width': '0.15', 'height': '0.15'})\n",
    "n.node('d', pos='100,100!', **{'width': '0.15', 'height': '0.15'})\n",
    "n.edge('a', 'b')\n",
    "n.edge('a', 'd')\n",
    "n.edge('b', 'd')\n",
    "n.edge('c', 'd')\n",
    "n.edge('a', 'c')\n",
    "n.render(neato_no_op=2, filename='pic02_t00', directory='graphs_4nodes').replace('\\\\', '/')"
   ]
  },
  {
   "cell_type": "code",
   "execution_count": 14,
   "id": "81fd8619-83d4-4272-9bad-76f94a221fd1",
   "metadata": {},
   "outputs": [
    {
     "data": {
      "text/plain": [
       "'graphs_4nodes/pic03_t00.png'"
      ]
     },
     "execution_count": 14,
     "metadata": {},
     "output_type": "execute_result"
    }
   ],
   "source": [
    "n = graphviz.Graph(name='pic03_t00', format=\"png\", engine='neato', graph_attr={'splines': 'true', 'width': '25'}, node_attr={'shape': 'point'})\n",
    "n.node('a', pos='0,0!', **{'width': '0.2', 'height': '0.2'})\n",
    "n.node('b', pos='87,50!', **{'width': '0.2', 'height': '0.2'})\n",
    "n.node('c', pos='-87,50!', **{'width': '0.2', 'height': '0.2'})\n",
    "n.node('d', pos='0,-100!', **{'width': '0.2', 'height': '0.2'})\n",
    "n.edge('a', 'b')\n",
    "n.edge('a', 'd')\n",
    "n.edge('a', 'c')\n",
    "n.edge('b', 'c')\n",
    "n.edge('d', 'b')\n",
    "n.edge('c', 'd')\n",
    "n.render(neato_no_op=2, filename='pic03_t00', directory='graphs_4nodes').replace('\\\\', '/')"
   ]
  },
  {
   "cell_type": "code",
   "execution_count": 140,
   "id": "b2259f5a-1fbb-459d-b948-f29bf7ac08d5",
   "metadata": {},
   "outputs": [
    {
     "data": {
      "text/plain": [
       "'graphs_4nodes/pic04_t00.png'"
      ]
     },
     "execution_count": 140,
     "metadata": {},
     "output_type": "execute_result"
    }
   ],
   "source": [
    "n = graphviz.Graph(name='pic04_t00', format=\"png\", engine='neato', graph_attr={'splines': 'true', 'width': '100'}, node_attr={'shape': 'point'})\n",
    "n.node('a', pos='0,0!', **{'width': '0.15', 'height': '0.15'})\n",
    "n.node('b', pos='100,0!', **{'width': '0.15', 'height': '0.15'})\n",
    "n.node('c', pos='0,100!', **{'width': '0.15', 'height': '0.15'})\n",
    "n.node('d', pos='100,100!', **{'width': '0.15', 'height': '0.15'})\n",
    "n.edge('b', 'd')\n",
    "n.edge('c', 'd')\n",
    "n.edge('a', 'c')\n",
    "n.render(neato_no_op=2, filename='pic04_t00', directory='graphs_4nodes').replace('\\\\', '/')"
   ]
  },
  {
   "cell_type": "code",
   "execution_count": 141,
   "id": "9c41d393-59de-4405-89b5-61e9305a38dd",
   "metadata": {},
   "outputs": [
    {
     "data": {
      "text/plain": [
       "'graphs_4nodes/pic05_t00.png'"
      ]
     },
     "execution_count": 141,
     "metadata": {},
     "output_type": "execute_result"
    }
   ],
   "source": [
    "n = graphviz.Graph(name='pic05_t00', format=\"png\", engine='neato', graph_attr={'splines': 'true', 'width': '15'}, node_attr={'shape': 'point'})\n",
    "n.node('a', pos='0,0!', **{'width': '0.15', 'height': '0.15'})\n",
    "n.node('b', pos='100,0!', **{'width': '0.15', 'height': '0.15'})\n",
    "n.node('c', pos='0,100!', **{'width': '0.15', 'height': '0.15'})\n",
    "n.node('d', pos='100,100!', **{'width': '0.15', 'height': '0.15'})\n",
    "n.edge('b', 'c')\n",
    "n.edge('c', 'd')\n",
    "n.edge('a', 'c')\n",
    "n.render(neato_no_op=2, filename='pic05_t00', directory='graphs_4nodes').replace('\\\\', '/')"
   ]
  },
  {
   "cell_type": "code",
   "execution_count": 142,
   "id": "167b29a1-fcac-4312-a79d-077996d959fa",
   "metadata": {},
   "outputs": [
    {
     "data": {
      "text/plain": [
       "'graphs_4nodes/pic06_t00.png'"
      ]
     },
     "execution_count": 142,
     "metadata": {},
     "output_type": "execute_result"
    }
   ],
   "source": [
    "n = graphviz.Graph(name='pic06_t00', format=\"png\", engine='neato', graph_attr={'splines': 'true', 'width': '5'}, node_attr={'shape': 'point'})\n",
    "n.node('a', pos='0,0!', **{'width': '0.15', 'height': '0.15'})\n",
    "n.node('b', pos='100,0!', **{'width': '0.15', 'height': '0.15'})\n",
    "n.node('c', pos='0,100!', **{'width': '0.15', 'height': '0.15'})\n",
    "n.node('d', pos='100,100!', **{'width': '0.15', 'height': '0.15'})\n",
    "n.edge('a', 'b')\n",
    "n.edge('a', 'c')\n",
    "n.edge('b', 'd')\n",
    "n.edge('c', 'd')\n",
    "n.render(neato_no_op=2, filename='pic06_t00', directory='graphs_4nodes').replace('\\\\', '/')"
   ]
  },
  {
   "cell_type": "markdown",
   "id": "a9fe7eb9-4866-483b-9ad1-9dbb3e688cda",
   "metadata": {},
   "source": [
    "## 绘制全部6种四顶点连通图（菱形）"
   ]
  },
  {
   "cell_type": "code",
   "execution_count": 143,
   "id": "d47f95b5-8234-4ee6-8c01-c999436165b0",
   "metadata": {},
   "outputs": [
    {
     "data": {
      "text/plain": [
       "'graphs_4nodes/pic01_t01.png'"
      ]
     },
     "execution_count": 143,
     "metadata": {},
     "output_type": "execute_result"
    }
   ],
   "source": [
    "n = graphviz.Graph(name='pic01_t01', format=\"png\", engine='neato', graph_attr={'splines': 'true', 'width': '10'}, node_attr={'shape': 'point'})\n",
    "n.node('a', pos='0,0!', **{'width': '0.15', 'height': '0.15'})\n",
    "n.node('b', pos='100,0!', **{'width': '0.15', 'height': '0.15'})\n",
    "n.node('c', pos='20,100!', **{'width': '0.15', 'height': '0.15'})\n",
    "n.node('d', pos='120,100!', **{'width': '0.15', 'height': '0.15'})\n",
    "n.edge('a', 'b')\n",
    "n.edge('a', 'd')\n",
    "n.edge('b', 'd')\n",
    "n.edge('c', 'd')\n",
    "n.render(neato_no_op=2, filename='pic01_t01', directory='graphs_4nodes').replace('\\\\', '/')"
   ]
  },
  {
   "cell_type": "code",
   "execution_count": 144,
   "id": "7c623339-74dc-4981-bf18-ad6e17438df5",
   "metadata": {},
   "outputs": [
    {
     "data": {
      "text/plain": [
       "'graphs_4nodes/pic02_t01.png'"
      ]
     },
     "execution_count": 144,
     "metadata": {},
     "output_type": "execute_result"
    }
   ],
   "source": [
    "n = graphviz.Graph(name='pic02_t01', format=\"png\", engine='neato', graph_attr={'splines': 'true', 'width': '10'}, node_attr={'shape': 'point'})\n",
    "n.node('a', pos='0,0!', **{'width': '0.15', 'height': '0.15'})\n",
    "n.node('b', pos='100,0!', **{'width': '0.15', 'height': '0.15'})\n",
    "n.node('c', pos='20,100!', **{'width': '0.15', 'height': '0.15'})\n",
    "n.node('d', pos='120,100!', **{'width': '0.15', 'height': '0.15'})\n",
    "n.edge('a', 'b')\n",
    "n.edge('a', 'd')\n",
    "n.edge('b', 'd')\n",
    "n.edge('c', 'd')\n",
    "n.edge('a', 'c')\n",
    "n.render(neato_no_op=2, filename='pic02_t01', directory='graphs_4nodes').replace('\\\\', '/')"
   ]
  },
  {
   "cell_type": "code",
   "execution_count": 145,
   "id": "37190dfe-7e1b-4bf5-bcb0-ce40b395c927",
   "metadata": {},
   "outputs": [
    {
     "data": {
      "text/plain": [
       "'graphs_4nodes/pic03_t01.png'"
      ]
     },
     "execution_count": 145,
     "metadata": {},
     "output_type": "execute_result"
    }
   ],
   "source": [
    "n = graphviz.Graph(name='pic03_t01', format=\"png\", engine='neato', graph_attr={'splines': 'true', 'width': '25'}, node_attr={'shape': 'point'})\n",
    "n.node('a', pos='0,0!', **{'width': '0.15', 'height': '0.3'})\n",
    "n.node('b', pos='87,50!', **{'width': '0.15', 'height': '0.3'})\n",
    "n.node('c', pos='-87,50!', **{'width': '0.15', 'height': '0.3'})\n",
    "n.node('d', pos='0,-100!', **{'width': '0.15', 'height': '0.3'})\n",
    "n.edge('a', 'b')\n",
    "n.edge('a', 'd')\n",
    "n.edge('a', 'c')\n",
    "n.edge('b', 'c', pos='87,50 30,65 -30,65 -87,50')\n",
    "n.edge('d', 'b', pos='0,-100 50,-55 70,-10 87,50')\n",
    "n.edge('c', 'd', pos='-87,50 -70,-10 -50,-55 0,-100')\n",
    "n.render(neato_no_op=2, filename='pic03_t01', directory='graphs_4nodes').replace('\\\\', '/')"
   ]
  },
  {
   "cell_type": "code",
   "execution_count": 146,
   "id": "a32854ac-666a-43d0-ae3e-705696589632",
   "metadata": {},
   "outputs": [
    {
     "data": {
      "text/plain": [
       "'graphs_4nodes/pic04_t01.png'"
      ]
     },
     "execution_count": 146,
     "metadata": {},
     "output_type": "execute_result"
    }
   ],
   "source": [
    "n = graphviz.Graph(name='pic04_t01', format=\"png\", engine='neato', graph_attr={'splines': 'true', 'width': '100'}, node_attr={'shape': 'point'})\n",
    "n.node('a', pos='0,0!', **{'width': '0.15', 'height': '0.15'})\n",
    "n.node('b', pos='100,0!', **{'width': '0.15', 'height': '0.15'})\n",
    "n.node('c', pos='20,100!', **{'width': '0.15', 'height': '0.15'})\n",
    "n.node('d', pos='120,100!', **{'width': '0.15', 'height': '0.15'})\n",
    "n.edge('b', 'd')\n",
    "n.edge('c', 'd')\n",
    "n.edge('a', 'c')\n",
    "n.render(neato_no_op=2, filename='pic04_t01', directory='graphs_4nodes').replace('\\\\', '/')"
   ]
  },
  {
   "cell_type": "code",
   "execution_count": 147,
   "id": "aed528ad-6c57-4193-9994-b1ca6e47f3e8",
   "metadata": {},
   "outputs": [
    {
     "data": {
      "text/plain": [
       "'graphs_4nodes/pic05_t01.png'"
      ]
     },
     "execution_count": 147,
     "metadata": {},
     "output_type": "execute_result"
    }
   ],
   "source": [
    "n = graphviz.Graph(name='pic05_t01', format=\"png\", engine='neato', graph_attr={'splines': 'true', 'width': '15'}, node_attr={'shape': 'point'})\n",
    "n.node('a', pos='0,0!', **{'width': '0.15', 'height': '0.15'})\n",
    "n.node('b', pos='100,0!', **{'width': '0.15', 'height': '0.15'})\n",
    "n.node('c', pos='20,100!', **{'width': '0.15', 'height': '0.15'})\n",
    "n.node('d', pos='120,100!', **{'width': '0.15', 'height': '0.15'})\n",
    "n.edge('b', 'c')\n",
    "n.edge('c', 'd')\n",
    "n.edge('a', 'c')\n",
    "n.render(neato_no_op=2, filename='pic05_t01', directory='graphs_4nodes').replace('\\\\', '/')"
   ]
  },
  {
   "cell_type": "code",
   "execution_count": 148,
   "id": "71bfb390-bed3-4385-a9d4-141fd736741d",
   "metadata": {},
   "outputs": [
    {
     "data": {
      "text/plain": [
       "'graphs_4nodes/pic06_t01.png'"
      ]
     },
     "execution_count": 148,
     "metadata": {},
     "output_type": "execute_result"
    }
   ],
   "source": [
    "n = graphviz.Graph(name='pic06_t01', format=\"png\", engine='neato', graph_attr={'splines': 'true', 'width': '5'}, node_attr={'shape': 'point'})\n",
    "n.node('a', pos='0,0!', **{'width': '0.15', 'height': '0.15'})\n",
    "n.node('b', pos='100,0!', **{'width': '0.15', 'height': '0.15'})\n",
    "n.node('c', pos='20,100!', **{'width': '0.15', 'height': '0.15'})\n",
    "n.node('d', pos='120,100!', **{'width': '0.15', 'height': '0.15'})\n",
    "n.edge('a', 'b')\n",
    "n.edge('a', 'c')\n",
    "n.edge('b', 'd')\n",
    "n.edge('c', 'd')\n",
    "n.render(neato_no_op=2, filename='pic06_t01', directory='graphs_4nodes').replace('\\\\', '/')"
   ]
  },
  {
   "cell_type": "markdown",
   "id": "114d720c-7cf5-45c0-ac75-5698b2b5eca9",
   "metadata": {},
   "source": [
    "## 绘制全部6种四顶点连通图（等腰梯形）"
   ]
  },
  {
   "cell_type": "code",
   "execution_count": 149,
   "id": "8e28dc50-7d2e-44bc-8f68-e4fce66656c9",
   "metadata": {},
   "outputs": [
    {
     "data": {
      "text/plain": [
       "'graphs_4nodes/pic01_t02.png'"
      ]
     },
     "execution_count": 149,
     "metadata": {},
     "output_type": "execute_result"
    }
   ],
   "source": [
    "n = graphviz.Graph(name='pic01_t02', format=\"png\", engine='neato', graph_attr={'splines': 'true', 'width': '10'}, node_attr={'shape': 'point'})\n",
    "n.node('a', pos='0,0!', **{'width': '0.15', 'height': '0.15'})\n",
    "n.node('b', pos='100,0!', **{'width': '0.15', 'height': '0.15'})\n",
    "n.node('c', pos='20,100!', **{'width': '0.15', 'height': '0.15'})\n",
    "n.node('d', pos='80,100!', **{'width': '0.15', 'height': '0.15'})\n",
    "n.edge('a', 'b')\n",
    "n.edge('a', 'd')\n",
    "n.edge('b', 'd')\n",
    "n.edge('c', 'd')\n",
    "n.render(neato_no_op=2, filename='pic01_t02', directory='graphs_4nodes').replace('\\\\', '/')"
   ]
  },
  {
   "cell_type": "code",
   "execution_count": 150,
   "id": "225087c3-6251-4923-a1c9-538fb9ae7880",
   "metadata": {},
   "outputs": [
    {
     "data": {
      "text/plain": [
       "'graphs_4nodes/pic02t_02.png'"
      ]
     },
     "execution_count": 150,
     "metadata": {},
     "output_type": "execute_result"
    }
   ],
   "source": [
    "n = graphviz.Graph(name='pic02_t02', format=\"png\", engine='neato', graph_attr={'splines': 'true', 'width': '10'}, node_attr={'shape': 'point'})\n",
    "n.node('a', pos='0,0!', **{'width': '0.15', 'height': '0.15'})\n",
    "n.node('b', pos='100,0!', **{'width': '0.15', 'height': '0.15'})\n",
    "n.node('c', pos='20,100!', **{'width': '0.15', 'height': '0.15'})\n",
    "n.node('d', pos='80,100!', **{'width': '0.15', 'height': '0.15'})\n",
    "n.edge('a', 'b')\n",
    "n.edge('a', 'd')\n",
    "n.edge('b', 'd')\n",
    "n.edge('c', 'd')\n",
    "n.edge('a', 'c')\n",
    "n.render(neato_no_op=2, filename='pic02t_02', directory='graphs_4nodes').replace('\\\\', '/')"
   ]
  },
  {
   "cell_type": "code",
   "execution_count": 151,
   "id": "6185a116-19bc-44fe-8e2e-45ef199daf0e",
   "metadata": {},
   "outputs": [
    {
     "data": {
      "text/plain": [
       "'graphs_4nodes/pic03_t02.png'"
      ]
     },
     "execution_count": 151,
     "metadata": {},
     "output_type": "execute_result"
    }
   ],
   "source": [
    "n = graphviz.Graph(name='pic03_t02', format=\"png\", engine='neato', graph_attr={'splines': 'true', 'width': '25'}, node_attr={'shape': 'point'})\n",
    "n.node('a', pos='0,0!', **{'width': '0.15', 'height': '0.3'})\n",
    "n.node('b', pos='87,50!', **{'width': '0.15', 'height': '0.3'})\n",
    "n.node('c', pos='-87,50!', **{'width': '0.15', 'height': '0.3'})\n",
    "n.node('d', pos='0,-100!', **{'width': '0.15', 'height': '0.3'})\n",
    "n.edge('a', 'b')\n",
    "n.edge('a', 'd')\n",
    "n.edge('a', 'c')\n",
    "n.edge('b', 'c')\n",
    "n.edge('d', 'b', pos='0,-100 50,-55 70,-10 87,50')\n",
    "n.edge('c', 'd', pos='-87,50 -70,-10 -50,-55 0,-100')\n",
    "n.render(neato_no_op=2, filename='pic03_t02', directory='graphs_4nodes').replace('\\\\', '/')"
   ]
  },
  {
   "cell_type": "code",
   "execution_count": 152,
   "id": "8ecc9f4a-2e1a-481e-9ef9-4b9321ef9c5d",
   "metadata": {},
   "outputs": [
    {
     "data": {
      "text/plain": [
       "'graphs_4nodes/pic04_t02.png'"
      ]
     },
     "execution_count": 152,
     "metadata": {},
     "output_type": "execute_result"
    }
   ],
   "source": [
    "n = graphviz.Graph(name='pic04_t02', format=\"png\", engine='neato', graph_attr={'splines': 'true', 'width': '100'}, node_attr={'shape': 'point'})\n",
    "n.node('a', pos='0,0!', **{'width': '0.15', 'height': '0.15'})\n",
    "n.node('b', pos='100,0!', **{'width': '0.15', 'height': '0.15'})\n",
    "n.node('c', pos='20,100!', **{'width': '0.15', 'height': '0.15'})\n",
    "n.node('d', pos='80,100!', **{'width': '0.15', 'height': '0.15'})\n",
    "n.edge('b', 'd')\n",
    "n.edge('c', 'd')\n",
    "n.edge('a', 'c')\n",
    "n.render(neato_no_op=2, filename='pic04_t02', directory='graphs_4nodes').replace('\\\\', '/')"
   ]
  },
  {
   "cell_type": "code",
   "execution_count": 153,
   "id": "1571b586-8ebc-4c85-a61a-439450b97a03",
   "metadata": {},
   "outputs": [
    {
     "data": {
      "text/plain": [
       "'graphs_4nodes/pic05_t02.png'"
      ]
     },
     "execution_count": 153,
     "metadata": {},
     "output_type": "execute_result"
    }
   ],
   "source": [
    "n = graphviz.Graph(name='pic05_t02', format=\"png\", engine='neato', graph_attr={'splines': 'true', 'width': '15'}, node_attr={'shape': 'point'})\n",
    "n.node('a', pos='0,0!', **{'width': '0.15', 'height': '0.15'})\n",
    "n.node('b', pos='100,0!', **{'width': '0.15', 'height': '0.15'})\n",
    "n.node('c', pos='20,100!', **{'width': '0.15', 'height': '0.15'})\n",
    "n.node('d', pos='80,100!', **{'width': '0.15', 'height': '0.15'})\n",
    "n.edge('b', 'c')\n",
    "n.edge('c', 'd')\n",
    "n.edge('a', 'c')\n",
    "n.render(neato_no_op=2, filename='pic05_t02', directory='graphs_4nodes').replace('\\\\', '/')"
   ]
  },
  {
   "cell_type": "code",
   "execution_count": 154,
   "id": "f36ff851-769f-4f60-9e51-7cc90abd7f65",
   "metadata": {
    "scrolled": true
   },
   "outputs": [
    {
     "data": {
      "text/plain": [
       "'graphs_4nodes/pic06_t02.png'"
      ]
     },
     "execution_count": 154,
     "metadata": {},
     "output_type": "execute_result"
    }
   ],
   "source": [
    "n = graphviz.Graph(name='pic06_t02', format=\"png\", engine='neato', graph_attr={'splines': 'true', 'width': '5'}, node_attr={'shape': 'point'})\n",
    "n.node('a', pos='0,0!', **{'width': '0.15', 'height': '0.15'})\n",
    "n.node('b', pos='100,0!', **{'width': '0.15', 'height': '0.15'})\n",
    "n.node('c', pos='20,100!', **{'width': '0.15', 'height': '0.15'})\n",
    "n.node('d', pos='80,100!', **{'width': '0.15', 'height': '0.15'})\n",
    "n.edge('a', 'b')\n",
    "n.edge('a', 'c')\n",
    "n.edge('b', 'd')\n",
    "n.edge('c', 'd')\n",
    "n.render(neato_no_op=2, filename='pic06_t02', directory='graphs_4nodes').replace('\\\\', '/')"
   ]
  },
  {
   "cell_type": "markdown",
   "id": "7014b068-4aaa-46a6-9c6d-4d6640eee04c",
   "metadata": {},
   "source": [
    "## 绘制全部6种四顶点连通图（直角梯形）"
   ]
  },
  {
   "cell_type": "code",
   "execution_count": 156,
   "id": "a670b792-b464-46d1-a983-92b2f3845d1a",
   "metadata": {},
   "outputs": [
    {
     "data": {
      "text/plain": [
       "'graphs_4nodes/pic01_t03.png'"
      ]
     },
     "execution_count": 156,
     "metadata": {},
     "output_type": "execute_result"
    }
   ],
   "source": [
    "n = graphviz.Graph(name='pic01_t03', format=\"png\", engine='neato', graph_attr={'splines': 'true', 'width': '10'}, node_attr={'shape': 'point'})\n",
    "n.node('a', pos='0,0!', **{'width': '0.15', 'height': '0.15'})\n",
    "n.node('b', pos='100,0!', **{'width': '0.15', 'height': '0.15'})\n",
    "n.node('c', pos='0,100!', **{'width': '0.15', 'height': '0.15'})\n",
    "n.node('d', pos='120,100!', **{'width': '0.15', 'height': '0.15'})\n",
    "n.edge('a', 'b')\n",
    "n.edge('a', 'd')\n",
    "n.edge('b', 'd')\n",
    "n.edge('c', 'd')\n",
    "n.render(neato_no_op=2, filename='pic01_t03', directory='graphs_4nodes').replace('\\\\', '/')"
   ]
  },
  {
   "cell_type": "code",
   "execution_count": 157,
   "id": "70e80cfa-69ed-4640-a102-049e378eb7b8",
   "metadata": {},
   "outputs": [
    {
     "data": {
      "text/plain": [
       "'graphs_4nodes/pic02_t03.png'"
      ]
     },
     "execution_count": 157,
     "metadata": {},
     "output_type": "execute_result"
    }
   ],
   "source": [
    "n = graphviz.Graph(name='pic02_t03', format=\"png\", engine='neato', graph_attr={'splines': 'true', 'width': '10'}, node_attr={'shape': 'point'})\n",
    "n.node('a', pos='0,0!', **{'width': '0.15', 'height': '0.15'})\n",
    "n.node('b', pos='100,0!', **{'width': '0.15', 'height': '0.15'})\n",
    "n.node('c', pos='0,100!', **{'width': '0.15', 'height': '0.15'})\n",
    "n.node('d', pos='120,100!', **{'width': '0.15', 'height': '0.15'})\n",
    "n.edge('a', 'b')\n",
    "n.edge('a', 'd')\n",
    "n.edge('b', 'd')\n",
    "n.edge('c', 'd')\n",
    "n.edge('a', 'c')\n",
    "n.render(neato_no_op=2, filename='pic02_t03', directory='graphs_4nodes').replace('\\\\', '/')"
   ]
  },
  {
   "cell_type": "code",
   "execution_count": 158,
   "id": "7f9cbd22-4749-4117-8a07-e4f800379f4d",
   "metadata": {},
   "outputs": [
    {
     "data": {
      "text/plain": [
       "'graphs_4nodes/pic03_t03.png'"
      ]
     },
     "execution_count": 158,
     "metadata": {},
     "output_type": "execute_result"
    }
   ],
   "source": [
    "n = graphviz.Graph(name='pic03_t03', format=\"png\", engine='neato', graph_attr={'splines': 'true', 'width': '25'}, node_attr={'shape': 'point'})\n",
    "n.node('a', pos='0,0!', **{'width': '0.15', 'height': '0.3'})\n",
    "n.node('b', pos='87,50!', **{'width': '0.15', 'height': '0.3'})\n",
    "n.node('c', pos='-87,50!', **{'width': '0.15', 'height': '0.3'})\n",
    "n.node('d', pos='0,-100!', **{'width': '0.15', 'height': '0.3'})\n",
    "n.edge('a', 'b')\n",
    "n.edge('a', 'd')\n",
    "n.edge('a', 'c')\n",
    "n.edge('b', 'c', pos='87,50 30,65 -30,65 -87,50')\n",
    "n.edge('d', 'b')\n",
    "n.edge('c', 'd')\n",
    "n.render(neato_no_op=2, filename='pic03_t03', directory='graphs_4nodes').replace('\\\\', '/')"
   ]
  },
  {
   "cell_type": "code",
   "execution_count": 160,
   "id": "5236f5a8-1d79-41f2-a582-1c32b6f95390",
   "metadata": {},
   "outputs": [
    {
     "data": {
      "text/plain": [
       "'graphs_4nodes/pic04_t03.png'"
      ]
     },
     "execution_count": 160,
     "metadata": {},
     "output_type": "execute_result"
    }
   ],
   "source": [
    "n = graphviz.Graph(name='pic04_t03', format=\"png\", engine='neato', graph_attr={'splines': 'true', 'width': '100'}, node_attr={'shape': 'point'})\n",
    "n.node('a', pos='0,0!', **{'width': '0.15', 'height': '0.15'})\n",
    "n.node('b', pos='100,0!', **{'width': '0.15', 'height': '0.15'})\n",
    "n.node('c', pos='0,100!', **{'width': '0.15', 'height': '0.15'})\n",
    "n.node('d', pos='120,100!', **{'width': '0.15', 'height': '0.15'})\n",
    "n.edge('b', 'd')\n",
    "n.edge('c', 'd')\n",
    "n.edge('a', 'c')\n",
    "n.render(neato_no_op=2, filename='pic04_t03', directory='graphs_4nodes').replace('\\\\', '/')"
   ]
  },
  {
   "cell_type": "code",
   "execution_count": 161,
   "id": "5e284dca-fe57-41f9-87cd-9d9bfc504061",
   "metadata": {},
   "outputs": [
    {
     "data": {
      "text/plain": [
       "'graphs_4nodes/pic05_t03.png'"
      ]
     },
     "execution_count": 161,
     "metadata": {},
     "output_type": "execute_result"
    }
   ],
   "source": [
    "n = graphviz.Graph(name='pic05_t03', format=\"png\", engine='neato', graph_attr={'splines': 'true', 'width': '15'}, node_attr={'shape': 'point'})\n",
    "n.node('a', pos='0,0!', **{'width': '0.15', 'height': '0.15'})\n",
    "n.node('b', pos='100,0!', **{'width': '0.15', 'height': '0.15'})\n",
    "n.node('c', pos='0,100!', **{'width': '0.15', 'height': '0.15'})\n",
    "n.node('d', pos='120,100!', **{'width': '0.15', 'height': '0.15'})\n",
    "n.edge('b', 'c')\n",
    "n.edge('c', 'd')\n",
    "n.edge('a', 'c')\n",
    "n.render(neato_no_op=2, filename='pic05_t03', directory='graphs_4nodes').replace('\\\\', '/')"
   ]
  },
  {
   "cell_type": "code",
   "execution_count": 162,
   "id": "6d90949d-1abe-4726-b48c-b7ad0adffaf2",
   "metadata": {},
   "outputs": [
    {
     "data": {
      "text/plain": [
       "'graphs_4nodes/pic06_t03.png'"
      ]
     },
     "execution_count": 162,
     "metadata": {},
     "output_type": "execute_result"
    }
   ],
   "source": [
    "n = graphviz.Graph(name='pic06_t03', format=\"png\", engine='neato', graph_attr={'splines': 'true', 'width': '5'}, node_attr={'shape': 'point'})\n",
    "n.node('a', pos='0,0!', **{'width': '0.15', 'height': '0.15'})\n",
    "n.node('b', pos='100,0!', **{'width': '0.15', 'height': '0.15'})\n",
    "n.node('c', pos='0,100!', **{'width': '0.15', 'height': '0.15'})\n",
    "n.node('d', pos='120,100!', **{'width': '0.15', 'height': '0.15'})\n",
    "n.edge('a', 'b')\n",
    "n.edge('a', 'c')\n",
    "n.edge('b', 'd')\n",
    "n.edge('c', 'd')\n",
    "n.render(neato_no_op=2, filename='pic06_t03', directory='graphs_4nodes').replace('\\\\', '/')"
   ]
  },
  {
   "cell_type": "markdown",
   "id": "77dd3bdb-0a29-4baf-9818-f106271cccf9",
   "metadata": {},
   "source": [
    "## 绘制全部6种四顶点连通图（凸菱形）"
   ]
  },
  {
   "cell_type": "code",
   "execution_count": 163,
   "id": "c73498d5-729f-48e5-a1a4-93a02d05e150",
   "metadata": {},
   "outputs": [
    {
     "data": {
      "text/plain": [
       "'graphs_4nodes/pic01_t04.png'"
      ]
     },
     "execution_count": 163,
     "metadata": {},
     "output_type": "execute_result"
    }
   ],
   "source": [
    "n = graphviz.Graph(name='pic01_t04', format=\"png\", engine='neato', graph_attr={'splines': 'true', 'width': '10'}, node_attr={'shape': 'point'})\n",
    "n.node('a', pos='0,0!', **{'width': '0.15', 'height': '0.15'})\n",
    "n.node('b', pos='100,0!', **{'width': '0.15', 'height': '0.15'})\n",
    "n.node('c', pos='0,100!', **{'width': '0.15', 'height': '0.15'})\n",
    "n.node('d', pos='120,120!', **{'width': '0.15', 'height': '0.15'})\n",
    "n.edge('a', 'b')\n",
    "n.edge('a', 'd')\n",
    "n.edge('b', 'd')\n",
    "n.edge('c', 'd')\n",
    "n.render(neato_no_op=2, filename='pic01_t04', directory='graphs_4nodes').replace('\\\\', '/')"
   ]
  },
  {
   "cell_type": "code",
   "execution_count": 164,
   "id": "21e9ce35-afbb-44d0-930c-721affd3de35",
   "metadata": {},
   "outputs": [
    {
     "data": {
      "text/plain": [
       "'graphs_4nodes/pic02_t04.png'"
      ]
     },
     "execution_count": 164,
     "metadata": {},
     "output_type": "execute_result"
    }
   ],
   "source": [
    "n = graphviz.Graph(name='pic02_t04', format=\"png\", engine='neato', graph_attr={'splines': 'true', 'width': '10'}, node_attr={'shape': 'point'})\n",
    "n.node('a', pos='0,0!', **{'width': '0.15', 'height': '0.15'})\n",
    "n.node('b', pos='100,0!', **{'width': '0.15', 'height': '0.15'})\n",
    "n.node('c', pos='0,100!', **{'width': '0.15', 'height': '0.15'})\n",
    "n.node('d', pos='120,120!', **{'width': '0.15', 'height': '0.15'})\n",
    "n.edge('a', 'b')\n",
    "n.edge('a', 'd')\n",
    "n.edge('b', 'd')\n",
    "n.edge('c', 'd')\n",
    "n.edge('a', 'c')\n",
    "n.render(neato_no_op=2, filename='pic02_t04', directory='graphs_4nodes').replace('\\\\', '/')"
   ]
  },
  {
   "cell_type": "code",
   "execution_count": 165,
   "id": "b1ea1e20-e93d-4ff8-a58e-da4232577a11",
   "metadata": {},
   "outputs": [
    {
     "data": {
      "text/plain": [
       "'graphs_4nodes/pic03_t04.png'"
      ]
     },
     "execution_count": 165,
     "metadata": {},
     "output_type": "execute_result"
    }
   ],
   "source": [
    "n = graphviz.Graph(name='pic03_t04', format=\"png\", engine='neato', graph_attr={'splines': 'true', 'width': '25'}, node_attr={'shape': 'point'})\n",
    "n.node('a', pos='0,0!', **{'width': '0.15', 'height': '0.3'})\n",
    "n.node('b', pos='87,50!', **{'width': '0.15', 'height': '0.3'})\n",
    "n.node('c', pos='-87,50!', **{'width': '0.15', 'height': '0.3'})\n",
    "n.node('d', pos='0,-130!', **{'width': '0.15', 'height': '0.3'})\n",
    "n.edge('a', 'b')\n",
    "n.edge('a', 'd')\n",
    "n.edge('a', 'c')\n",
    "n.edge('b', 'c')\n",
    "n.edge('d', 'b')\n",
    "n.edge('c', 'd')\n",
    "n.render(neato_no_op=2, filename='pic03_t04', directory='graphs_4nodes').replace('\\\\', '/')"
   ]
  },
  {
   "cell_type": "code",
   "execution_count": 180,
   "id": "acbacfd6-5502-480e-821e-60a859013b05",
   "metadata": {},
   "outputs": [
    {
     "data": {
      "text/plain": [
       "'graphs_4nodes/pic04_t04.png'"
      ]
     },
     "execution_count": 180,
     "metadata": {},
     "output_type": "execute_result"
    }
   ],
   "source": [
    "n = graphviz.Graph(name='pic04_t04', format=\"png\", engine='neato', graph_attr={'splines': 'true', 'width': '100'}, node_attr={'shape': 'point'})\n",
    "n.node('a', pos='0,0!', **{'width': '0.15', 'height': '0.15'})\n",
    "n.node('b', pos='100,0!', **{'width': '0.15', 'height': '0.15'})\n",
    "n.node('c', pos='0,100!', **{'width': '0.15', 'height': '0.15'})\n",
    "n.node('d', pos='120,120!', **{'width': '0.15', 'height': '0.15'})\n",
    "n.edge('b', 'd')\n",
    "n.edge('c', 'd')\n",
    "n.edge('a', 'c')\n",
    "n.render(neato_no_op=2, filename='pic04_t04', directory='graphs_4nodes').replace('\\\\', '/')"
   ]
  },
  {
   "cell_type": "code",
   "execution_count": 168,
   "id": "99e98f93-3981-4951-888d-d6dd8c9e0c2c",
   "metadata": {},
   "outputs": [
    {
     "data": {
      "text/plain": [
       "'graphs_4nodes/pic05_t04.png'"
      ]
     },
     "execution_count": 168,
     "metadata": {},
     "output_type": "execute_result"
    }
   ],
   "source": [
    "n = graphviz.Graph(name='pic05_t04', format=\"png\", engine='neato', graph_attr={'splines': 'true', 'width': '15'}, node_attr={'shape': 'point'})\n",
    "n.node('a', pos='0,0!', **{'width': '0.15', 'height': '0.15'})\n",
    "n.node('b', pos='100,0!', **{'width': '0.15', 'height': '0.15'})\n",
    "n.node('c', pos='0,100!', **{'width': '0.15', 'height': '0.15'})\n",
    "n.node('d', pos='120,120!', **{'width': '0.15', 'height': '0.15'})\n",
    "n.edge('b', 'c')\n",
    "n.edge('c', 'd')\n",
    "n.edge('a', 'c')\n",
    "n.render(neato_no_op=2, filename='pic05_t04', directory='graphs_4nodes').replace('\\\\', '/')"
   ]
  },
  {
   "cell_type": "code",
   "execution_count": 181,
   "id": "a19b17b1-715c-4c8f-9d8b-ed6b2d8b87a5",
   "metadata": {},
   "outputs": [
    {
     "data": {
      "text/plain": [
       "'graphs_4nodes/pic06_t04.png'"
      ]
     },
     "execution_count": 181,
     "metadata": {},
     "output_type": "execute_result"
    }
   ],
   "source": [
    "n = graphviz.Graph(name='pic06_t04', format=\"png\", engine='neato', graph_attr={'splines': 'true', 'width': '5'}, node_attr={'shape': 'point'})\n",
    "n.node('a', pos='0,0!', **{'width': '0.15', 'height': '0.15'})\n",
    "n.node('b', pos='100,0!', **{'width': '0.15', 'height': '0.15'})\n",
    "n.node('c', pos='0,100!', **{'width': '0.15', 'height': '0.15'})\n",
    "n.node('d', pos='120,120!', **{'width': '0.15', 'height': '0.15'})\n",
    "n.edge('a', 'b')\n",
    "n.edge('a', 'c')\n",
    "n.edge('b', 'd')\n",
    "n.edge('c', 'd')\n",
    "n.render(neato_no_op=2, filename='pic06_t04', directory='graphs_4nodes').replace('\\\\', '/')"
   ]
  },
  {
   "cell_type": "markdown",
   "id": "2922320d-9f71-4674-92b8-ac8cc0f9f967",
   "metadata": {},
   "source": [
    "## 绘制全部6种四顶点连通图（凹菱形）"
   ]
  },
  {
   "cell_type": "code",
   "execution_count": 170,
   "id": "992e2917-b069-47ee-aa2f-ff18278163b1",
   "metadata": {},
   "outputs": [
    {
     "data": {
      "text/plain": [
       "'graphs_4nodes/pic01_t05.png'"
      ]
     },
     "execution_count": 170,
     "metadata": {},
     "output_type": "execute_result"
    }
   ],
   "source": [
    "n = graphviz.Graph(name='pic01_t05', format=\"png\", engine='neato', graph_attr={'splines': 'true', 'width': '10'}, node_attr={'shape': 'point'})\n",
    "n.node('a', pos='0,0!', **{'width': '0.15', 'height': '0.15'})\n",
    "n.node('b', pos='100,0!', **{'width': '0.15', 'height': '0.15'})\n",
    "n.node('c', pos='0,100!', **{'width': '0.15', 'height': '0.15'})\n",
    "n.node('d', pos='80,80!', **{'width': '0.15', 'height': '0.15'})\n",
    "n.edge('a', 'b')\n",
    "n.edge('a', 'd')\n",
    "n.edge('b', 'd')\n",
    "n.edge('c', 'd')\n",
    "n.render(neato_no_op=2, filename='pic01_t05', directory='graphs_4nodes').replace('\\\\', '/')"
   ]
  },
  {
   "cell_type": "code",
   "execution_count": 171,
   "id": "47982ffe-e327-44c3-bea0-741c84573bb7",
   "metadata": {},
   "outputs": [
    {
     "data": {
      "text/plain": [
       "'graphs_4nodes/pic02t_05.png'"
      ]
     },
     "execution_count": 171,
     "metadata": {},
     "output_type": "execute_result"
    }
   ],
   "source": [
    "n = graphviz.Graph(name='pic02_t05', format=\"png\", engine='neato', graph_attr={'splines': 'true', 'width': '10'}, node_attr={'shape': 'point'})\n",
    "n.node('a', pos='0,0!', **{'width': '0.15', 'height': '0.15'})\n",
    "n.node('b', pos='100,0!', **{'width': '0.15', 'height': '0.15'})\n",
    "n.node('c', pos='0,100!', **{'width': '0.15', 'height': '0.15'})\n",
    "n.node('d', pos='80,80!', **{'width': '0.15', 'height': '0.15'})\n",
    "n.edge('a', 'b')\n",
    "n.edge('a', 'd')\n",
    "n.edge('b', 'd')\n",
    "n.edge('c', 'd')\n",
    "n.edge('a', 'c')\n",
    "n.render(neato_no_op=2, filename='pic02t_05', directory='graphs_4nodes').replace('\\\\', '/')"
   ]
  },
  {
   "cell_type": "code",
   "execution_count": 183,
   "id": "280a9a00-943f-49b1-92cf-edb044db4980",
   "metadata": {},
   "outputs": [
    {
     "data": {
      "text/plain": [
       "'graphs_4nodes/pic03_t05.png'"
      ]
     },
     "execution_count": 183,
     "metadata": {},
     "output_type": "execute_result"
    }
   ],
   "source": [
    "n = graphviz.Graph(name='pic03_t05', format=\"png\", engine='neato', graph_attr={'splines': 'true', 'width': '25'}, node_attr={'shape': 'point'})\n",
    "n.node('a', pos='0,0!', **{'width': '0.15', 'height': '0.3'})\n",
    "n.node('b', pos='87,50!', **{'width': '0.15', 'height': '0.3'})\n",
    "n.node('c', pos='-87,50!', **{'width': '0.15', 'height': '0.3'})\n",
    "n.node('d', pos='0,-60!', **{'width': '0.15', 'height': '0.3'})\n",
    "n.edge('a', 'b')\n",
    "n.edge('a', 'd')\n",
    "n.edge('a', 'c')\n",
    "n.edge('b', 'c')\n",
    "n.edge('d', 'b')\n",
    "n.edge('c', 'd')\n",
    "n.render(neato_no_op=2, filename='pic03_t05', directory='graphs_4nodes').replace('\\\\', '/')"
   ]
  },
  {
   "cell_type": "code",
   "execution_count": 173,
   "id": "851f7ade-b24b-47ac-a72e-92337c621ff9",
   "metadata": {},
   "outputs": [
    {
     "data": {
      "text/plain": [
       "'graphs_4nodes/pic04_t05.png'"
      ]
     },
     "execution_count": 173,
     "metadata": {},
     "output_type": "execute_result"
    }
   ],
   "source": [
    "n = graphviz.Graph(name='pic04_t05', format=\"png\", engine='neato', graph_attr={'splines': 'true', 'width': '100'}, node_attr={'shape': 'point'})\n",
    "n.node('a', pos='0,0!', **{'width': '0.15', 'height': '0.15'})\n",
    "n.node('b', pos='100,0!', **{'width': '0.15', 'height': '0.15'})\n",
    "n.node('c', pos='0,100!', **{'width': '0.15', 'height': '0.15'})\n",
    "n.node('d', pos='80,80!', **{'width': '0.15', 'height': '0.15'})\n",
    "n.edge('b', 'd')\n",
    "n.edge('c', 'd')\n",
    "n.edge('a', 'c')\n",
    "n.render(neato_no_op=2, filename='pic04_t05', directory='graphs_4nodes').replace('\\\\', '/')"
   ]
  },
  {
   "cell_type": "code",
   "execution_count": 174,
   "id": "04c65a13-989e-4b36-93ae-93bed3119221",
   "metadata": {},
   "outputs": [
    {
     "data": {
      "text/plain": [
       "'graphs_4nodes/pic05_t05.png'"
      ]
     },
     "execution_count": 174,
     "metadata": {},
     "output_type": "execute_result"
    }
   ],
   "source": [
    "n = graphviz.Graph(name='pic05_t05', format=\"png\", engine='neato', graph_attr={'splines': 'true', 'width': '15'}, node_attr={'shape': 'point'})\n",
    "n.node('a', pos='0,0!', **{'width': '0.15', 'height': '0.15'})\n",
    "n.node('b', pos='100,0!', **{'width': '0.15', 'height': '0.15'})\n",
    "n.node('c', pos='0,100!', **{'width': '0.15', 'height': '0.15'})\n",
    "n.node('d', pos='80,80!', **{'width': '0.15', 'height': '0.15'})\n",
    "n.edge('b', 'c')\n",
    "n.edge('c', 'd')\n",
    "n.edge('a', 'c')\n",
    "n.render(neato_no_op=2, filename='pic05_t05', directory='graphs_4nodes').replace('\\\\', '/')"
   ]
  },
  {
   "cell_type": "code",
   "execution_count": 175,
   "id": "63520142-dcec-4bb5-8b4d-a3d07c7ad253",
   "metadata": {
    "scrolled": true
   },
   "outputs": [
    {
     "data": {
      "text/plain": [
       "'graphs_4nodes/pic06_t05.png'"
      ]
     },
     "execution_count": 175,
     "metadata": {},
     "output_type": "execute_result"
    }
   ],
   "source": [
    "n = graphviz.Graph(name='pic06_t05', format=\"png\", engine='neato', graph_attr={'splines': 'true', 'width': '5'}, node_attr={'shape': 'point'})\n",
    "n.node('a', pos='0,0!', **{'width': '0.15', 'height': '0.15'})\n",
    "n.node('b', pos='100,0!', **{'width': '0.15', 'height': '0.15'})\n",
    "n.node('c', pos='0,100!', **{'width': '0.15', 'height': '0.15'})\n",
    "n.node('d', pos='80,80!', **{'width': '0.15', 'height': '0.15'})\n",
    "n.edge('a', 'b')\n",
    "n.edge('a', 'c')\n",
    "n.edge('b', 'd')\n",
    "n.edge('c', 'd')\n",
    "n.render(neato_no_op=2, filename='pic06_t05', directory='graphs_4nodes').replace('\\\\', '/')"
   ]
  },
  {
   "cell_type": "markdown",
   "id": "22ecc73d-fd7f-457d-b7f9-042ea15c2664",
   "metadata": {},
   "source": [
    "## 空心一般梯形"
   ]
  },
  {
   "cell_type": "code",
   "execution_count": 182,
   "id": "fbcb5bca-15cb-445a-87ac-dd0baa6fb58e",
   "metadata": {},
   "outputs": [
    {
     "data": {
      "text/plain": [
       "'graphs_4nodes/pic06_t06.png'"
      ]
     },
     "execution_count": 182,
     "metadata": {},
     "output_type": "execute_result"
    }
   ],
   "source": [
    "n = graphviz.Graph(name='pic06_t06', format=\"png\", engine='neato', graph_attr={'splines': 'true', 'width': '5'}, node_attr={'shape': 'point'})\n",
    "n.node('a', pos='0,0!', **{'width': '0.15', 'height': '0.15'})\n",
    "n.node('b', pos='100,0!', **{'width': '0.15', 'height': '0.15'})\n",
    "n.node('c', pos='20,100!', **{'width': '0.15', 'height': '0.15'})\n",
    "n.node('d', pos='124,120!', **{'width': '0.15', 'height': '0.15'})\n",
    "n.edge('a', 'b')\n",
    "n.edge('a', 'c')\n",
    "n.edge('b', 'd')\n",
    "n.edge('c', 'd')\n",
    "n.render(neato_no_op=2, filename='pic06_t06', directory='graphs_4nodes').replace('\\\\', '/')"
   ]
  },
  {
   "cell_type": "markdown",
   "id": "cfeeb48a-72c9-419d-9adf-e504e13e7ddf",
   "metadata": {},
   "source": [
    "## 删除gv文件"
   ]
  },
  {
   "cell_type": "code",
   "execution_count": 176,
   "id": "ca6e7c42-92f8-4bc1-addf-687754e08d8e",
   "metadata": {},
   "outputs": [],
   "source": [
    "import os\n",
    "\n",
    "input_dir='./graphs_4nodes/'\n",
    " \n",
    "for filename in os.listdir(input_dir):\n",
    "    if not filename.endswith('.png'):\n",
    "        targetFile = os.path.join(input_dir, filename) \n",
    "        if os.path.isfile(targetFile): \n",
    "            os.remove(targetFile)"
   ]
  },
  {
   "cell_type": "code",
   "execution_count": null,
   "id": "9e9f8d09-1a83-4eea-bb7d-51491b43e591",
   "metadata": {},
   "outputs": [],
   "source": []
  }
 ],
 "metadata": {
  "kernelspec": {
   "display_name": "Python 3 (ipykernel)",
   "language": "python",
   "name": "python3"
  },
  "language_info": {
   "codemirror_mode": {
    "name": "ipython",
    "version": 3
   },
   "file_extension": ".py",
   "mimetype": "text/x-python",
   "name": "python",
   "nbconvert_exporter": "python",
   "pygments_lexer": "ipython3",
   "version": "3.11.7"
  }
 },
 "nbformat": 4,
 "nbformat_minor": 5
}
