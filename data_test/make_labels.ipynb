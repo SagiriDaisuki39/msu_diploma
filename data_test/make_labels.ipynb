{
 "cells": [
  {
   "cell_type": "markdown",
   "id": "7c8c10a0",
   "metadata": {},
   "source": [
    "### Make labels. Write the image name and type into the txt file"
   ]
  },
  {
   "cell_type": "code",
   "execution_count": 1,
   "id": "0c32fb57",
   "metadata": {},
   "outputs": [],
   "source": [
    "import os\n",
    "\n",
    "src_dir_path='./graphs/'\n",
    "\n",
    "with open('labels.txt', 'w', encoding='utf-8') as file:\n",
    "    for filename in os.listdir(src_dir_path):\n",
    "        if 't01' in filename:\n",
    "            file.writelines(filename+\"\\t t01\\n\")\n",
    "        if 't02' in filename:\n",
    "            file.writelines(filename+\"\\t t02\\n\")\n",
    "        if 't03' in filename:\n",
    "            file.writelines(filename+\"\\t t03\\n\")\n",
    "        if 't04' in filename:\n",
    "            file.writelines(filename+\"\\t t04\\n\")\n",
    "        if 't05' in filename:\n",
    "            file.writelines(filename+\"\\t t05\\n\")\n",
    "        if 't06' in filename:\n",
    "            file.writelines(filename+\"\\t t06\\n\")"
   ]
  }
 ],
 "metadata": {
  "kernelspec": {
   "display_name": "Python 3 (ipykernel)",
   "language": "python",
   "name": "python3"
  },
  "language_info": {
   "codemirror_mode": {
    "name": "ipython",
    "version": 3
   },
   "file_extension": ".py",
   "mimetype": "text/x-python",
   "name": "python",
   "nbconvert_exporter": "python",
   "pygments_lexer": "ipython3",
   "version": "3.11.5"
  }
 },
 "nbformat": 4,
 "nbformat_minor": 5
}
